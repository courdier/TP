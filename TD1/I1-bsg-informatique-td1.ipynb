{
 "cells": [
  {
   "cell_type": "markdown",
   "metadata": {},
   "source": [
    "TD1 BSG - Premiers pas avec python"
   ]
  },
  {
   "cell_type": "markdown",
   "metadata": {},
   "source": [
    "[Qu'est-ce que notebook ?](http://nbviewer.jupyter.org/github/ipython/ipython/blob/3.x/examples/Notebook/Index.ipynb)"
   ]
  },
  {
   "cell_type": "code",
   "execution_count": null,
   "metadata": {},
   "outputs": [],
   "source": [
    "rep111=\"Lorsqu'il y a un plus d'un opérateur, l'ordre de leur évaluation suit des règles de priorité. L'ordre peut se retenir à l'aide du mémotechnique PEMDAS. Python respecte les priorités usuelles des langages de programmation.\"\n",
    "rep112=\"Lorsqu'une expression porte à la fois sur des flottants et des entiers, l'interpréteur transforme alors tous les entiers en flottants\"\n",
    "rep113=\"L'opérateur / est l'opérateur de division sur les flottants. L'opérateur // est l'opérateur de division entière appliquée sur des flottants, le résultat est la partie entière de la division renvoyée sous forme de flottant.\"\n",
    "rep114=\"L'opérateur % calcule le reste de la division entière. Appliquée sur des flottants, le résultat est renvoyé sous forme de flottant.\"\n",
    "rep132=\"Pour savoir si un nombre est impair il sufit de tester que le reste de sa division par 2 est égal à 1.\"\n",
    "rep151=\"On peut connaître le code ASCII d'un caractère grâce à la fonction ord. 3 avec l'entier 123 ! droite. La comparaison est faite selon l'ordre alphanumérique ou plus exactement selon l'ordre définit par le codage ASCII des caractères dans lequel - entre autre - les chiffres précédent les lettres majuscules qui précédent elles-même les lettres minuscules.\"\n",
    "rep162=\"Les fonctions int et float sont des fonctions de conversion de type.\"\n",
    "rep182=\"La fonction type permet de connaître le type d'une expression. (De savoir ce que l'on manipule comme donnée dans une variable.)\"\n",
    "rep192=\"En affectant la valeur a=20 il ne se passe rien ! L'expression d'alternative ne retourne aucune valeur puisque le cas a<=100 n'est pas prévu.\"\n",
    "def test_exo_1_13():\n",
    "    print(\"1. Enregistrer la partie\") ; print(\"2. Charger une partie\"); print(\"3. Nouvelle partie\"); print(\"4. Quitter\") ; \n",
    "    ichoix = int(input(\"Votre choix : \")); \n",
    "    if (0 < ichoix and ichoix < 5): \n",
    "        print (\"Ok\")\n",
    "    else:\n",
    "        print(\"Choix incorrect\")\n",
    "def test_exo_1_14():\n",
    "    a = int( input (\" Donner un premier entier \"))\n",
    "    b = int( input (\" Donner un second entier \")) \n",
    "    c = int( input (\" Donner un troisieme entier \"))\n",
    "    nb_zero = 0\n",
    "    if a == 0 :\n",
    "        nb_zero += 1\n",
    "    if b == 0 :\n",
    "        nb_zero += 1\n",
    "    if c == 0 :\n",
    "        nb_zero += 1\n",
    "    print (\"Il y a\", nb_zero , \" zeros \")    \n",
    "def test_exo_1_15():\n",
    "    # Programme de conversion de temperature\n",
    "    # On saisit la valeur de la ytempetrature sous la forme d'un réel (float)\n",
    "    temp = float ( input (\" Donnez la temperature :\"))\n",
    "    unite = input (\" Donnez l'unite C, F ou K : \")\n",
    "\n",
    "    if ( unite != \"C\") and ( unite != \"F\") and ( unite != \"K\") :\n",
    "        print (\"Erreur , unite incorrecte \")\n",
    "    else :\n",
    "        if unite == \"C\" :\n",
    "            tempC = temp\n",
    "        elif unite == \"F\" :\n",
    "            tempC = 9 * ( temp - 32) / 5.0\n",
    "        elif unite == \"K\" :\n",
    "            tempC = temp - 273.15\n",
    "        \n",
    "    tempF = 5 * tempC / 9.0 + 32\n",
    "    tempK = tempC + 273.15\n",
    "    print (tempC ,\"C =\", tempF , \"F =\", tempK , \"K\")\n",
    "def test_exo_1_16():\n",
    "    # Calcul de volume d'un parallélépipède\n",
    "    long = float ( input (\" Donnez la longueur : \"))\n",
    "    larg = float ( input (\" Donner la largeur : \"))\n",
    "    haut = float ( input (\" Donner la hauteur : \"))\n",
    "    print (\"Le volume du parallelepipede ainsi definit est \", long * larg * haut )   \n",
    "def test_exo_1_17():\n",
    "    # Le nombre est-il entier ?\n",
    "    a = int( input (\" Donner une entier : \"))\n",
    "    if a % 2 == 0 :\n",
    "        print (\" Entier pair \")\n",
    "    else :\n",
    "        print (\" Entier impair \")        \n",
    "from math import *    \n",
    "def test_exo_1_18():\n",
    "    # Affichage du menu\n",
    "    print (\"1. Carre \")\n",
    "    print (\"2. Rectangle \")\n",
    "    print (\"3. Triangle rectangle \")\n",
    "    \n",
    "    # Saisie du choix utilisateur\n",
    "    figure = int( input (\" Quelle figure :\"))\n",
    "\n",
    "    if figure == 1: # Carre\n",
    "        cote = float ( input (\" Donner la valeur du cote :\"))\n",
    "        print (\" Aire = \", cote * cote )\n",
    "        print (\" Perimetre =\", cote *4)\n",
    "    elif figure == 2: # Rectangle\n",
    "        longueur = float ( input (\" Donner la valeur de la longueur :\"))\n",
    "        largeur = float ( input (\" Donner la valeur de la largeur :\"))\n",
    "        print (\" Aire =\", longueur * largeur )\n",
    "        print (\" Perimetre =\", 2*( longueur + largeur ))\n",
    "    elif figure == 3: # Triangle\n",
    "        cote1 = float ( input (\" Donner la valeur du premier cote :\"))\n",
    "        cote2 = float ( input (\" Donner la valeur du deuxieme cote :\"))\n",
    "        print (\" Aire =\", ( cote1 * cote2 ) /2.0)\n",
    "        print (\" Perimetre =\", cote1 + cote2 + sqrt ( cote1 * cote1 + cote2 * cote2 ))\n",
    "    else : # choix invalide\n",
    "        print (\" Cette figure est inconnue \")"
   ]
  },
  {
   "cell_type": "markdown",
   "metadata": {},
   "source": [
    "# Identifiez vous "
   ]
  },
  {
   "cell_type": "code",
   "execution_count": null,
   "metadata": {},
   "outputs": [],
   "source": [
    "import requests\n",
    "\n",
    "exec(requests.get(\"https://courdier.pythonanywhere.com/get-send-code\").content)\n",
    "\n",
    "name = input(\"Votre prenom NOM :\")\n",
    "session = input('Session Id:')"
   ]
  },
  {
   "cell_type": "markdown",
   "metadata": {},
   "source": [
    "# Exercice 1 : Utilisez l'interpreteur"
   ]
  },
  {
   "cell_type": "markdown",
   "metadata": {},
   "source": [
    "## 1.1 : Faire des calculs"
   ]
  },
  {
   "cell_type": "markdown",
   "metadata": {},
   "source": [
    "### Exercice 1.1"
   ]
  },
  {
   "cell_type": "markdown",
   "metadata": {},
   "source": [
    "1) Evaluer les expressions suivantes et obervez les résultats calculés par l'interpréteur python :"
   ]
  },
  {
   "cell_type": "code",
   "execution_count": null,
   "metadata": {},
   "outputs": [],
   "source": [
    "5+3"
   ]
  },
  {
   "cell_type": "code",
   "execution_count": null,
   "metadata": {},
   "outputs": [],
   "source": [
    "2 - 9"
   ]
  },
  {
   "cell_type": "code",
   "execution_count": null,
   "metadata": {},
   "outputs": [],
   "source": [
    "5 + 3 * 2"
   ]
  },
  {
   "cell_type": "code",
   "execution_count": null,
   "metadata": {},
   "outputs": [],
   "source": [
    "(5+3) * 2"
   ]
  },
  {
   "cell_type": "code",
   "execution_count": null,
   "metadata": {},
   "outputs": [],
   "source": [
    "20 / 3"
   ]
  },
  {
   "cell_type": "code",
   "execution_count": null,
   "metadata": {},
   "outputs": [],
   "source": [
    "20 // 3"
   ]
  },
  {
   "cell_type": "code",
   "execution_count": null,
   "metadata": {},
   "outputs": [],
   "source": [
    "20.0 // 3"
   ]
  },
  {
   "cell_type": "code",
   "execution_count": null,
   "metadata": {},
   "outputs": [],
   "source": [
    "21 % 3"
   ]
  },
  {
   "cell_type": "code",
   "execution_count": null,
   "metadata": {},
   "outputs": [],
   "source": [
    "sqrt (2)"
   ]
  },
  {
   "cell_type": "markdown",
   "metadata": {},
   "source": [
    "L'interpréteur Python exécute l'instruction lorsque vous frappez sur la touche entrée ( ). Faites bien attention à la valeur retournée par l'interpréteur.\n",
    "* Python respecte-t-il les prioritées des opérations arithmétiques ?"
   ]
  },
  {
   "cell_type": "code",
   "execution_count": null,
   "metadata": {
    "scrolled": false
   },
   "outputs": [],
   "source": [
    "print(rep111)"
   ]
  },
  {
   "cell_type": "markdown",
   "metadata": {},
   "source": [
    "* Que se passe-t-il lorsqu'on mélange des entiers et des flottants dans un même calcul ?"
   ]
  },
  {
   "cell_type": "code",
   "execution_count": null,
   "metadata": {},
   "outputs": [],
   "source": [
    "print(rep112)"
   ]
  },
  {
   "cell_type": "markdown",
   "metadata": {},
   "source": [
    "* Que font les op\u0013erateurs / et // ?"
   ]
  },
  {
   "cell_type": "code",
   "execution_count": null,
   "metadata": {},
   "outputs": [],
   "source": [
    "print(rep113)"
   ]
  },
  {
   "cell_type": "markdown",
   "metadata": {},
   "source": [
    "* Que calcule l'opérateur % ?"
   ]
  },
  {
   "cell_type": "code",
   "execution_count": null,
   "metadata": {},
   "outputs": [],
   "source": [
    "print(rep114)"
   ]
  },
  {
   "cell_type": "markdown",
   "metadata": {},
   "source": [
    "### Exercice 1.2"
   ]
  },
  {
   "cell_type": "markdown",
   "metadata": {},
   "source": [
    "1) Tapez et exécutez les expressions suivantes et observez et analyser la réponse de l'interpréteur."
   ]
  },
  {
   "cell_type": "code",
   "execution_count": null,
   "metadata": {},
   "outputs": [],
   "source": [
    "pi"
   ]
  },
  {
   "cell_type": "code",
   "execution_count": null,
   "metadata": {},
   "outputs": [],
   "source": [
    "from math import *"
   ]
  },
  {
   "cell_type": "code",
   "execution_count": null,
   "metadata": {},
   "outputs": [],
   "source": [
    "sqrt (2)"
   ]
  },
  {
   "cell_type": "code",
   "execution_count": null,
   "metadata": {},
   "outputs": [],
   "source": [
    "sqrt 2"
   ]
  },
  {
   "cell_type": "code",
   "execution_count": null,
   "metadata": {},
   "outputs": [],
   "source": [
    "sin (90)"
   ]
  },
  {
   "cell_type": "code",
   "execution_count": null,
   "metadata": {},
   "outputs": [],
   "source": [
    "pi"
   ]
  },
  {
   "cell_type": "code",
   "execution_count": null,
   "metadata": {},
   "outputs": [],
   "source": [
    "sin(pi /2)"
   ]
  },
  {
   "cell_type": "code",
   "execution_count": null,
   "metadata": {},
   "outputs": [],
   "source": [
    "sin (radians (90))"
   ]
  },
  {
   "cell_type": "markdown",
   "metadata": {},
   "source": [
    "Pour connaitre les fonctions qui sont définies dans un module, il faut utiliser la commande help(\"nom_du_module\").\n",
    "L'interpréteur affiche alors le descriptif de toutes les fonctions qu'il contient (dans un terminal tapez la barre d'espace\n",
    "pour afficher la suite et q pour quitter l'affichage). Pour obtenir l'aide sur une fonction en particulier, tapez (après\n",
    "avoir importée le module dans l'environnement) help(fonction) sans les guillemets !"
   ]
  },
  {
   "cell_type": "markdown",
   "metadata": {},
   "source": [
    "2) Essayez les commandes help(\"math\") et help(sqrt) (apr\u0012es avoir ex\u0013ecut\u0013e from math import *)."
   ]
  },
  {
   "cell_type": "code",
   "execution_count": null,
   "metadata": {},
   "outputs": [],
   "source": [
    "help(\"math\")"
   ]
  },
  {
   "cell_type": "code",
   "execution_count": null,
   "metadata": {},
   "outputs": [],
   "source": [
    "help (sqrt)"
   ]
  },
  {
   "cell_type": "markdown",
   "metadata": {},
   "source": [
    "### Exercice 1.3"
   ]
  },
  {
   "cell_type": "markdown",
   "metadata": {},
   "source": [
    "1) Evaluez les expressions suivantes dans l'interpréteur :"
   ]
  },
  {
   "cell_type": "code",
   "execution_count": null,
   "metadata": {},
   "outputs": [],
   "source": [
    "13 // 3"
   ]
  },
  {
   "cell_type": "code",
   "execution_count": null,
   "metadata": {},
   "outputs": [],
   "source": [
    "14 % 3"
   ]
  },
  {
   "cell_type": "code",
   "execution_count": null,
   "metadata": {},
   "outputs": [],
   "source": [
    "3 ** 2"
   ]
  },
  {
   "cell_type": "code",
   "execution_count": null,
   "metadata": {},
   "outputs": [],
   "source": [
    "2 ** 0.5"
   ]
  },
  {
   "cell_type": "markdown",
   "metadata": {},
   "source": [
    "2) Comment savoir si un nombre est impair ?"
   ]
  },
  {
   "cell_type": "code",
   "execution_count": null,
   "metadata": {},
   "outputs": [],
   "source": [
    "print(rep132)"
   ]
  },
  {
   "cell_type": "markdown",
   "metadata": {},
   "source": [
    "## 1.2 Utiliser des variables"
   ]
  },
  {
   "cell_type": "markdown",
   "metadata": {},
   "source": [
    "### Exercice 1.4"
   ]
  },
  {
   "cell_type": "markdown",
   "metadata": {},
   "source": [
    "Décrivez le plus complètement possible ce qui se passe lors de l'évaluation de chacune des instructions suivantes :"
   ]
  },
  {
   "cell_type": "code",
   "execution_count": null,
   "metadata": {},
   "outputs": [],
   "source": [
    "n = 7\n",
    "rac2 = 1.414\n",
    "x = n + rac2\n",
    "print (n + rac2 )"
   ]
  },
  {
   "cell_type": "code",
   "execution_count": null,
   "metadata": {},
   "outputs": [],
   "source": [
    "msg = \" Rien a signaler \""
   ]
  },
  {
   "cell_type": "code",
   "execution_count": null,
   "metadata": {},
   "outputs": [],
   "source": [
    "msg"
   ]
  },
  {
   "cell_type": "code",
   "execution_count": null,
   "metadata": {},
   "outputs": [],
   "source": [
    "msg2 = msg"
   ]
  },
  {
   "cell_type": "code",
   "execution_count": null,
   "metadata": {},
   "outputs": [],
   "source": [
    "print ( msg2 )"
   ]
  },
  {
   "cell_type": "code",
   "execution_count": null,
   "metadata": {},
   "outputs": [],
   "source": [
    "msg3 = print ( msg2 )"
   ]
  },
  {
   "cell_type": "code",
   "execution_count": null,
   "metadata": {},
   "outputs": [],
   "source": [
    "msg3"
   ]
  },
  {
   "cell_type": "code",
   "execution_count": null,
   "metadata": {},
   "outputs": [],
   "source": [
    "print ( msg3 )"
   ]
  },
  {
   "cell_type": "markdown",
   "metadata": {},
   "source": [
    "### Exercice 1.5"
   ]
  },
  {
   "cell_type": "markdown",
   "metadata": {},
   "source": [
    "Testez les expressions suivantes :"
   ]
  },
  {
   "cell_type": "code",
   "execution_count": null,
   "metadata": {},
   "outputs": [],
   "source": [
    "a=10 ; b=33\n",
    "a < b"
   ]
  },
  {
   "cell_type": "code",
   "execution_count": null,
   "metadata": {},
   "outputs": [],
   "source": [
    "b < a"
   ]
  },
  {
   "cell_type": "code",
   "execution_count": null,
   "metadata": {},
   "outputs": [],
   "source": [
    "a+23 = b"
   ]
  },
  {
   "cell_type": "code",
   "execution_count": null,
   "metadata": {},
   "outputs": [],
   "source": [
    "a+23 == b"
   ]
  },
  {
   "cell_type": "code",
   "execution_count": null,
   "metadata": {},
   "outputs": [],
   "source": [
    "c = b ==  a + 23"
   ]
  },
  {
   "cell_type": "code",
   "execution_count": null,
   "metadata": {},
   "outputs": [],
   "source": [
    "c"
   ]
  },
  {
   "cell_type": "code",
   "execution_count": null,
   "metadata": {},
   "outputs": [],
   "source": [
    "\" abcd \" < \"abc\""
   ]
  },
  {
   "cell_type": "code",
   "execution_count": null,
   "metadata": {},
   "outputs": [],
   "source": [
    "\"d\" < \"\""
   ]
  },
  {
   "cell_type": "code",
   "execution_count": null,
   "metadata": {},
   "outputs": [],
   "source": [
    "\"33\" > \"323\""
   ]
  },
  {
   "cell_type": "markdown",
   "metadata": {},
   "source": [
    "1) Comment s'effectue la comparaison de chaines de caractères ?"
   ]
  },
  {
   "cell_type": "code",
   "execution_count": null,
   "metadata": {},
   "outputs": [],
   "source": [
    "print(rep151)"
   ]
  },
  {
   "cell_type": "markdown",
   "metadata": {},
   "source": [
    "### Exercice 1.6"
   ]
  },
  {
   "cell_type": "markdown",
   "metadata": {},
   "source": [
    "1) Testez les instructions suivantes :"
   ]
  },
  {
   "cell_type": "code",
   "execution_count": null,
   "metadata": {},
   "outputs": [],
   "source": [
    "int (12)"
   ]
  },
  {
   "cell_type": "code",
   "execution_count": null,
   "metadata": {},
   "outputs": [],
   "source": [
    "float (12)"
   ]
  },
  {
   "cell_type": "code",
   "execution_count": null,
   "metadata": {},
   "outputs": [],
   "source": [
    "int (2.71)"
   ]
  },
  {
   "cell_type": "code",
   "execution_count": null,
   "metadata": {},
   "outputs": [],
   "source": [
    "float (\" 10.7 \")"
   ]
  },
  {
   "cell_type": "code",
   "execution_count": null,
   "metadata": {},
   "outputs": [],
   "source": [
    "int(\" 10.7 \")"
   ]
  },
  {
   "cell_type": "code",
   "execution_count": null,
   "metadata": {},
   "outputs": [],
   "source": [
    "int(\"10\") + 5"
   ]
  },
  {
   "cell_type": "markdown",
   "metadata": {},
   "source": [
    "2) Que font les fonctions int et float ?"
   ]
  },
  {
   "cell_type": "code",
   "execution_count": null,
   "metadata": {},
   "outputs": [],
   "source": [
    "print(rep162)"
   ]
  },
  {
   "cell_type": "markdown",
   "metadata": {},
   "source": [
    "### Exercice 1.7"
   ]
  },
  {
   "cell_type": "markdown",
   "metadata": {},
   "source": [
    "Pour chacune des expressions booléennes suivantes affectez les valeurs **True** ou **False** aux variables a, b, c de telle sorte que la valeur de l'expression soit vérifiée (**True**)."
   ]
  },
  {
   "cell_type": "code",
   "execution_count": null,
   "metadata": {},
   "outputs": [],
   "source": [
    "print (\"a or b and c\")\n",
    "a=(input(\"valeur de a : \") == \"True\") and True or False \n",
    "b=(input(\"valeur de b : \") == \"True\") and True or False \n",
    "c=(input(\"valeur de c : \") == \"True\") and True or False\n",
    "a or b and c"
   ]
  },
  {
   "cell_type": "code",
   "execution_count": null,
   "metadata": {},
   "outputs": [],
   "source": [
    "print (\"a and not b or c\")\n",
    "a=(input(\"valeur de a : \") == \"True\") and True or False\n",
    "b=(input(\"valeur de b : \") == \"True\") and True or False \n",
    "c=(input(\"valeur de c : \") == \"True\") and True or False\n",
    "\n",
    "a and not b or c"
   ]
  },
  {
   "cell_type": "code",
   "execution_count": null,
   "metadata": {},
   "outputs": [],
   "source": [
    "print (\"a and (not b or a)\")\n",
    "a=(input(\"valeur de a : \") == \"True\") and True or False\n",
    "b=(input(\"valeur de b : \") == \"True\") and True or False \n",
    "a and (not b or a)"
   ]
  },
  {
   "cell_type": "code",
   "execution_count": null,
   "metadata": {},
   "outputs": [],
   "source": [
    "print (\"a and not(b or a)\")\n",
    "a=(input(\"valeur de a : \") == \"True\") and True or False\n",
    "b=(input(\"valeur de b : \") == \"True\") and True or False \n",
    "a and not(b or a)"
   ]
  },
  {
   "cell_type": "code",
   "execution_count": null,
   "metadata": {},
   "outputs": [],
   "source": [
    "print (\"(a or b) and not(a and b)\")\n",
    "a=(input(\"valeur de a : \") == \"True\") and True or False\n",
    "b=(input(\"valeur de b : \") == \"True\") and True or False \n",
    "(a or b) and not(a and b)"
   ]
  },
  {
   "cell_type": "markdown",
   "metadata": {},
   "source": [
    "### Exercice 1.8"
   ]
  },
  {
   "cell_type": "markdown",
   "metadata": {},
   "source": [
    "1) Testez les instructions suivantes"
   ]
  },
  {
   "cell_type": "code",
   "execution_count": null,
   "metadata": {},
   "outputs": [],
   "source": [
    "r = 5\n",
    "pi = 3.1415927\n",
    "s = pi * r ** 2\n",
    "type (r)"
   ]
  },
  {
   "cell_type": "code",
   "execution_count": null,
   "metadata": {},
   "outputs": [],
   "source": [
    "type (pi)"
   ]
  },
  {
   "cell_type": "code",
   "execution_count": null,
   "metadata": {},
   "outputs": [],
   "source": [
    "type (s)"
   ]
  },
  {
   "cell_type": "code",
   "execution_count": null,
   "metadata": {},
   "outputs": [],
   "source": [
    "type (\"1234\")"
   ]
  },
  {
   "cell_type": "code",
   "execution_count": null,
   "metadata": {},
   "outputs": [],
   "source": [
    "type (sqrt)"
   ]
  },
  {
   "cell_type": "markdown",
   "metadata": {},
   "source": [
    "2) A quoi sert la fonction type ?"
   ]
  },
  {
   "cell_type": "code",
   "execution_count": null,
   "metadata": {},
   "outputs": [],
   "source": [
    "print (rep182)"
   ]
  },
  {
   "cell_type": "markdown",
   "metadata": {},
   "source": [
    "## 1.3 Instructions conditionnelles"
   ]
  },
  {
   "cell_type": "markdown",
   "metadata": {},
   "source": [
    "### Exercice 1.9"
   ]
  },
  {
   "cell_type": "markdown",
   "metadata": {},
   "source": [
    "1) Tapez les instructions suivantes dans l'interpréteur de Python en prenant bien soin de taper une tabulation après les 3 points affchés par l'interpréteur lorsque c'est nécessaire. Les tabulations sont indispensables en langage Python et délimitent les blocs d'instructions !"
   ]
  },
  {
   "cell_type": "code",
   "execution_count": null,
   "metadata": {},
   "outputs": [],
   "source": [
    "a = 120\n",
    "if a > 100 :\n",
    "    # ce bloc est exécuté si l'expression (a > 100) est vraie\n",
    "    print (\"a depasse la centaine \")"
   ]
  },
  {
   "cell_type": "markdown",
   "metadata": {},
   "source": [
    "2) Recommencez la même instruction conditionnelle mais en affectant la valeur 20 à la variable a. Que se passe-t-il ?"
   ]
  },
  {
   "cell_type": "code",
   "execution_count": null,
   "metadata": {},
   "outputs": [],
   "source": [
    "print (rep192)"
   ]
  },
  {
   "cell_type": "code",
   "execution_count": null,
   "metadata": {},
   "outputs": [],
   "source": [
    "a = 120\n",
    "if (a > 100) :\n",
    "    # ce bloc est exécuté si l'expression (a > 100) est vraie\n",
    "    print (\"a depasse la centaine \")\n",
    "else :\n",
    "    # ce bloc est exécuté si l'expression (a > 100) est fausse\n",
    "    print(\"\")\n",
    "    print (\"a ne depasse pas la centaine \")"
   ]
  },
  {
   "cell_type": "markdown",
   "metadata": {},
   "source": [
    "### exercice 1.10"
   ]
  },
  {
   "cell_type": "markdown",
   "metadata": {},
   "source": [
    "Tapez une séquence d'instructions pour affecter des valeurs (de votre choix) à deux variables x et y, puis à l'aide d'expressions d'alternative, afficher x est le plus grand ou bien y est le plus grand ou bien x égale y selon les valeurs de x et y. Faites bien attention aux tabulations pour indenter les blocs d'instructions. En particulier sivvous voulez passer des lignes à l'intérieur d'un bloc d'instructions vous devez quand m^eme tapez les tabulations sur les lignes vident."
   ]
  },
  {
   "cell_type": "code",
   "execution_count": null,
   "metadata": {},
   "outputs": [],
   "source": [
    "x = 12\n",
    "y = 23\n",
    "\n",
    "if x > y :\n",
    "    print (\"x est le plus grand \")\n",
    "else :\n",
    "    if y > x :\n",
    "        print (\"y est le plus grand \")\n",
    "    else :\n",
    "        print (\"x egale y\")"
   ]
  },
  {
   "cell_type": "markdown",
   "metadata": {},
   "source": [
    "### Exercice 1.11"
   ]
  },
  {
   "cell_type": "markdown",
   "metadata": {},
   "source": [
    "Tapez une séquence d'instructions pour affecter des valeurs à trois variables de votre choix puis, à l'aide d'alternatives, faites afficher le nom de la variable dont la valeur est la plus grande."
   ]
  },
  {
   "cell_type": "code",
   "execution_count": null,
   "metadata": {},
   "outputs": [],
   "source": [
    "a=10 ; b=30 ; c=20\n",
    "if a > b :\n",
    "    if a > c :\n",
    "        print (\"a est le plus grand \")\n",
    "    else :\n",
    "        print (\"c est le plus grand \")\n",
    "else :\n",
    "    if b > c :\n",
    "        print (\"b est le plus grand \")\n",
    "    else :\n",
    "        print (\"c est le plus grand \")"
   ]
  },
  {
   "cell_type": "markdown",
   "metadata": {},
   "source": [
    "# 2. Premiers programmes"
   ]
  },
  {
   "cell_type": "markdown",
   "metadata": {},
   "source": [
    "### Exercice 1.12"
   ]
  },
  {
   "cell_type": "markdown",
   "metadata": {},
   "source": [
    "Saisissez le programme suivant dans un éditeur de texte, enregistrez-le dans un fichier que vous nommez ex12.py (on utilise l'extension .py pour les programmes écrits en Python). Ne pas saisir les numéros de ligne."
   ]
  },
  {
   "cell_type": "code",
   "execution_count": null,
   "metadata": {},
   "outputs": [],
   "source": [
    "# ceci est un commentaire\n",
    "# programme exo12.py\n",
    "# mon premier programme python\n",
    "\n",
    "#  la commande input retourne un chaine de caractères qui doit etre convertie en entier\n",
    "a = int( input (\" Entrez un entier : \"))\n",
    "# On utilise des instructions conditionnelles imbriquées\n",
    "if a < 0 :\n",
    "    print (\"Cet entier est negatif \") # affiche un resultat\n",
    "else :\n",
    "    if a > 0 :\n",
    "        print (\"Cet entier est positif \")\n",
    "        if a < 100 :\n",
    "            print (\"et plus petit que 100\")\n",
    "        else :\n",
    "            print (\"et superieur ou egal a 100\")\n",
    "    else :\n",
    "        print (\" Vous avez entré 0\")"
   ]
  },
  {
   "cell_type": "markdown",
   "metadata": {},
   "source": [
    "### Exercice 1.13"
   ]
  },
  {
   "cell_type": "markdown",
   "metadata": {},
   "source": [
    "Ecrivez un programme qui affiche le menu suivant :\n",
    "<pre>\n",
    "1. Enregistrer la partie\n",
    "2. Charger une partie\n",
    "3. Nouvelle partie\n",
    "4. Quitter\n",
    "</pre>\n",
    "puis demande à l'utilisateur de saisir son choix (l'utilisateur entre un entier) puis affiche OK si le choix est valide ou bien Choix incorrect sinon."
   ]
  },
  {
   "cell_type": "code",
   "execution_count": null,
   "metadata": {},
   "outputs": [],
   "source": [
    "# exemple d'exécution de cet exercice\n",
    "test_exo_1_13()"
   ]
  },
  {
   "cell_type": "code",
   "execution_count": null,
   "metadata": {},
   "outputs": [],
   "source": [
    "# Voir le code source de cet exercice 1.13\n",
    "test_exo_1_13??"
   ]
  },
  {
   "cell_type": "markdown",
   "metadata": {},
   "source": [
    "### Exercice 1.14"
   ]
  },
  {
   "cell_type": "markdown",
   "metadata": {},
   "source": [
    "Ecrivez un programme qui demande la saisie de trois entiers et affiche **combien** de ces entiers sont égaux à zéro. Pensez à utiliser des opérateurs logiques dans vos conditions."
   ]
  },
  {
   "cell_type": "code",
   "execution_count": null,
   "metadata": {},
   "outputs": [],
   "source": [
    "# Exemple d'exécution de cet exercice 1.14 \n",
    "test_exo_1_14()"
   ]
  },
  {
   "cell_type": "code",
   "execution_count": null,
   "metadata": {},
   "outputs": [],
   "source": [
    "# Voir le code source de cet exercice 1.14\n",
    "test_exo_1_14??"
   ]
  },
  {
   "cell_type": "markdown",
   "metadata": {},
   "source": [
    "### Exercice 1.15"
   ]
  },
  {
   "cell_type": "markdown",
   "metadata": {},
   "source": [
    "Ecrivez un programme permettant de convertir une température donnée dans une unité (Celcius, Fahrenheit ou Kelvin)\n",
    "dans les autres unités.\n",
    "Les unités à considérer sont Celsius ( C ), Fahrenheit ( F ) et Kelvin ( K ) et les formules de conversion sont :\n",
    ">**C** = 9/5(F-32)   \n",
    ">**F** = 5/9C +32    \n",
    ">**K** = C+273,15\n",
    "\n",
    "Le programme demandera la valeur de la température puis l'unité dans laquelle elle est exprimée donnée sous la forme d'un caractère : C, F ou K."
   ]
  },
  {
   "cell_type": "code",
   "execution_count": null,
   "metadata": {},
   "outputs": [],
   "source": [
    "# Exemple d'exécution de cet exercice : \n",
    "test_exo_1_15()"
   ]
  },
  {
   "cell_type": "code",
   "execution_count": null,
   "metadata": {},
   "outputs": [],
   "source": [
    "# Voir le code source de cet exercice 1.15\n",
    "test_exo_1_15??"
   ]
  },
  {
   "cell_type": "markdown",
   "metadata": {},
   "source": [
    "### Exercice 1.16"
   ]
  },
  {
   "cell_type": "markdown",
   "metadata": {},
   "source": [
    "Ecrivez un programme qui demande la saisie, sous forme de flottant, de la longueur, de la largeur et de la hauteur\n",
    "d'un parallélépipède rectangle et affiche son volume."
   ]
  },
  {
   "cell_type": "code",
   "execution_count": null,
   "metadata": {},
   "outputs": [],
   "source": [
    "# Exemple d'exécution de cet exercice : \n",
    "test_exo_1_16()"
   ]
  },
  {
   "cell_type": "code",
   "execution_count": null,
   "metadata": {},
   "outputs": [],
   "source": [
    "# Voir le code source de cet exercice\n",
    "test_exo_1_16??"
   ]
  },
  {
   "cell_type": "markdown",
   "metadata": {},
   "source": [
    "### Exercice 1.17"
   ]
  },
  {
   "cell_type": "markdown",
   "metadata": {},
   "source": [
    "Ecrivez un programme qui demande la saisie d'un entier et qui produit l'affichage Entier pair ou Entier impair selon que l'entier saisi est pair ou impair."
   ]
  },
  {
   "cell_type": "code",
   "execution_count": null,
   "metadata": {},
   "outputs": [],
   "source": [
    "# Exemple d'exécution de cet exercice : \n",
    "test_exo_1_17()"
   ]
  },
  {
   "cell_type": "code",
   "execution_count": null,
   "metadata": {},
   "outputs": [],
   "source": [
    "# Voir le code source de cet exercice 1.15\n",
    "test_exo_1_17??"
   ]
  },
  {
   "cell_type": "markdown",
   "metadata": {},
   "source": [
    "### Exercice 1.18"
   ]
  },
  {
   "cell_type": "markdown",
   "metadata": {},
   "source": [
    "Ecrivez un programme qui, selon le choix de l'utilisateur, permet de calculer l'aire et le périmètre d'un carré, d'un rectangle, d'un triangle rectangle (dont on connaît les longueurs des c^otés de l'angle droit ), d'un parallélogramme ou d'un losange."
   ]
  },
  {
   "cell_type": "code",
   "execution_count": null,
   "metadata": {},
   "outputs": [],
   "source": [
    "# Exemple d'exécution de cet exercice : \n",
    "test_exo_1_18()"
   ]
  },
  {
   "cell_type": "code",
   "execution_count": null,
   "metadata": {},
   "outputs": [],
   "source": [
    "# Voir le code source de cet exercice\n",
    "test_exo_1_18??"
   ]
  }
 ],
 "metadata": {
  "kernelspec": {
   "display_name": "Python 3",
   "language": "python",
   "name": "python3"
  },
  "language_info": {
   "codemirror_mode": {
    "name": "ipython",
    "version": 3
   },
   "file_extension": ".py",
   "mimetype": "text/x-python",
   "name": "python",
   "nbconvert_exporter": "python",
   "pygments_lexer": "ipython3",
   "version": "3.6.8"
  }
 },
 "nbformat": 4,
 "nbformat_minor": 2
}
