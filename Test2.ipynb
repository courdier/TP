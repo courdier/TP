{
 "cells": [
  {
   "cell_type": "markdown",
   "metadata": {},
   "source": [
    "# TD Python - QCM"
   ]
  },
  {
   "cell_type": "markdown",
   "metadata": {},
   "source": [
    "## Identifiez vous"
   ]
  },
  {
   "cell_type": "code",
   "execution_count": 1,
   "metadata": {},
   "outputs": [
    {
     "name": "stdout",
     "output_type": "stream",
     "text": [
      "Creation d'une session de suivi sous https://courdier.pythonanywhere.com/records...\n",
      "/bin/sh: wget: command not found\n"
     ]
    }
   ],
   "source": [
    "print(\"Creation d'une session de suivi sous https://courdier.pythonanywhere.com/records...\")\n",
    "!wget https://raw.githubusercontent.com/courdier/TP/master/TD2/answers_td2.py\n",
    "import requests\n",
    "exec(requests.get(\"https://courdier.pythonanywhere.com/get-send-code\").content)\n",
    "name = input(\"Votre prenom NOM :\")\n",
    "session = 23 #input('Session Id:')"
   ]
  },
  {
   "cell_type": "markdown",
   "metadata": {},
   "source": [
    "## question 1\n",
    "Qu'affiche le programme suivant :\n",
    "```python\n",
    "n = 0\n",
    "while n < 11 :\n",
    "    n = n + 2\n",
    "print(n)\n",
    "\n",
    "a. 0\n",
    "b. 10\n",
    "c. 11\n",
    "d. 12\n",
    "```"
   ]
  },
  {
   "cell_type": "code",
   "execution_count": null,
   "metadata": {},
   "outputs": [],
   "source": [
    "send(input(\"Reponse question 1 : \"), 1 )"
   ]
  },
  {
   "cell_type": "markdown",
   "metadata": {},
   "source": [
    "## question 2\n",
    "Qu'affiche le programme suivant :\n",
    "```python\n",
    "n = 10\n",
    "while n >= 11 :\n",
    "    n = n + 2\n",
    "print(n)\n",
    "\n",
    "a. 10\n",
    "b. 11\n",
    "c. 12\n",
    "d. 13\n",
    "```"
   ]
  },
  {
   "cell_type": "code",
   "execution_count": null,
   "metadata": {},
   "outputs": [],
   "source": [
    "send(input(\"Reponse question 2 : \"), 2 )"
   ]
  },
  {
   "cell_type": "markdown",
   "metadata": {},
   "source": [
    "## question 3\n",
    "Qu'affiche le programme suivant :\n",
    "```python\n",
    "ch = \"bonjour\"\n",
    "ch[3] = 'X'\n",
    "print(ch)\n",
    "\n",
    "a. bonjour\n",
    "b. boXjour\n",
    "c. bonXour\n",
    "d. rien, il provoque une erreur\n",
    "```"
   ]
  },
  {
   "cell_type": "code",
   "execution_count": null,
   "metadata": {},
   "outputs": [],
   "source": [
    "send(input(\"Reponse question 3 : \"), 3 )"
   ]
  },
  {
   "cell_type": "markdown",
   "metadata": {},
   "source": [
    "## question 4\n",
    "Qu'affiche le programme suivant :\n",
    "```python\n",
    "res = \"\"\n",
    "for c in \"Hello\" :\n",
    "    res = res + c\n",
    "print(res)\n",
    "\n",
    "a. ''\n",
    "b. Hello\n",
    "c. olleH\n",
    "d. HelloHelloHelloHelloHello\n",
    "```"
   ]
  },
  {
   "cell_type": "code",
   "execution_count": null,
   "metadata": {},
   "outputs": [],
   "source": [
    "send(input(\"Reponse question 4 : \"), 4 )"
   ]
  },
  {
   "cell_type": "markdown",
   "metadata": {},
   "source": [
    "## question 4 \n",
    "Qu'affiche le programme suivant :\n",
    "```python\n",
    "res = \"\"\n",
    "for c in \"Hello\" :\n",
    "    if c >= 'A' and c <= 'Z' :\n",
    "        res = res + c\n",
    "print(res)\n",
    "->www.wooclap.com/TGCJRG\n",
    "a. ''\n",
    "b. Hello\n",
    "c. H\n",
    "d. ello\n",
    "```"
   ]
  },
  {
   "cell_type": "code",
   "execution_count": null,
   "metadata": {},
   "outputs": [],
   "source": [
    "send(input(\"Reponse question 5 : \"), 5 )"
   ]
  },
  {
   "cell_type": "markdown",
   "metadata": {},
   "source": [
    "## question 5\n",
    "Qu'affiche le programme suivant :`\n",
    "```python\n",
    "res = \"\"\n",
    "for c in \"Hello\" :\n",
    "    if c >= 'a' and c <= 'o' :\n",
    "        res = res + c\n",
    "print(res)\n",
    "\n",
    "a. Hell\n",
    "b. ell\n",
    "c. Hello\n",
    "d. ello\n",
    "```"
   ]
  },
  {
   "cell_type": "code",
   "execution_count": null,
   "metadata": {},
   "outputs": [],
   "source": [
    "send(input(\"Reponse question 5 : \"), 5 )"
   ]
  },
  {
   "cell_type": "markdown",
   "metadata": {},
   "source": [
    "## question 6\n",
    "Qu'affiche le programme suivant :\n",
    "```python\n",
    "voy = \"aeiouy\"\n",
    "phrase = \"Comptons des voyelles\"\n",
    "nb = 0\n",
    "for c in voy :\n",
    "    if c in phrase:\n",
    "        nb = nb + 1\n",
    "print(nb)\n",
    "\n",
    "a. 2\n",
    "b. 3\n",
    "c. 6\n",
    "d. `\n",
    "```"
   ]
  },
  {
   "cell_type": "code",
   "execution_count": null,
   "metadata": {},
   "outputs": [],
   "source": [
    "send(input(\"Reponse question 6 : \"), 6 )"
   ]
  },
  {
   "cell_type": "markdown",
   "metadata": {},
   "source": [
    "## question 7\n",
    "Qu'affiche le programme suivant :\n",
    "```python\n",
    "liste1 = [1,2,3,4]\n",
    "liste2 = [5,6,7]\n",
    "print(len(liste1 + liste2))\n",
    "\n",
    "a. 2\n",
    "b. 5\n",
    "c. 6\n",
    "d. 7\n",
    "```"
   ]
  },
  {
   "cell_type": "code",
   "execution_count": null,
   "metadata": {},
   "outputs": [],
   "source": [
    "send(input(\"Reponse question 7 : \"), 7 )"
   ]
  },
  {
   "cell_type": "markdown",
   "metadata": {},
   "source": [
    "## question 8\n",
    "Qu'affiche le programme suivant :\n",
    "```python\n",
    "liste1 = [1,2,3]\n",
    "liste2 = liste1*2\n",
    "print(liste2)\n",
    "\n",
    "a. [1,2,3]\n",
    "b. [2,4,6]\n",
    "c. [1,2,3,1,2,3]\n",
    "d. liste2\n",
    "```"
   ]
  },
  {
   "cell_type": "code",
   "execution_count": null,
   "metadata": {},
   "outputs": [],
   "source": [
    "send(input(\"Reponse question 8 : \"), 8 )"
   ]
  },
  {
   "cell_type": "markdown",
   "metadata": {},
   "source": [
    "## question 9 \n",
    "Qu'affiche le programme suivant :\n",
    "```python\n",
    "liste1 = ['a', 'b', 'c', 'd']\n",
    "liste2 = liste1[:]\n",
    "liste1[2]=99\n",
    "print(liste2)\n",
    "\n",
    "a. ['a', 'b', 'c', 'd']\n",
    "b. ['a', 99, 'c', 'd']\n",
    "c. ['a', 'b', 99, 'd']\n",
    "d. rien, il provoque une erreur\n",
    "```"
   ]
  },
  {
   "cell_type": "code",
   "execution_count": null,
   "metadata": {},
   "outputs": [],
   "source": [
    "send(input(\"Reponse question 9 : \"), 9 )"
   ]
  },
  {
   "cell_type": "markdown",
   "metadata": {},
   "source": [
    "## question 10 \n",
    "Qu'affiche le programme suivant :\n",
    "```python\n",
    "for i in range(3):\n",
    "    print(i, end=\" \")\n",
    "for i in range(4,6):\n",
    "    print(i, end = \" \")\n",
    "    \n",
    "a. 3 4 6\n",
    "b. 0 1 2 4 5\n",
    "c. 1 2 3 4 5 6\n",
    "d. 0 1 2 4 5 6\n",
    "```"
   ]
  },
  {
   "cell_type": "code",
   "execution_count": null,
   "metadata": {},
   "outputs": [],
   "source": [
    "send(input(\"Reponse question 10 : \"), 10 )"
   ]
  }
 ],
 "metadata": {
  "kernelspec": {
   "display_name": "Python 3",
   "language": "python",
   "name": "python3"
  },
  "language_info": {
   "codemirror_mode": {
    "name": "ipython",
    "version": 3
   },
   "file_extension": ".py",
   "mimetype": "text/x-python",
   "name": "python",
   "nbconvert_exporter": "python",
   "pygments_lexer": "ipython3",
   "version": "3.6.8"
  }
 },
 "nbformat": 4,
 "nbformat_minor": 2
}
