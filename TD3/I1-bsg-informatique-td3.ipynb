{
 "cells": [
  {
   "cell_type": "markdown",
   "metadata": {},
   "source": [
    "# TD3 Python - Listes et Fonctions\n",
    "\n",
    "Vous trouverez par la suite des exercices obligatoires et des exercices pour approfondir. Les exercices obligatoires sont\n",
    "précédés par le caractère *."
   ]
  },
  {
   "cell_type": "markdown",
   "metadata": {},
   "source": [
    "[Qu'est-ce que notebook ?](http://nbviewer.jupyter.org/github/ipython/ipython/blob/3.x/examples/Notebook/Index.ipynb)"
   ]
  },
  {
   "cell_type": "markdown",
   "metadata": {},
   "source": [
    "# Identifiez vous"
   ]
  },
  {
   "cell_type": "code",
   "execution_count": null,
   "metadata": {},
   "outputs": [],
   "source": [
    "print(\"Creation d'une session de suivi sous https://courdier.pythonanywhere.com/records...\")\n",
    "!wget https://raw.githubusercontent.com/courdier/TP/master/TD3/answers_td3.py\n",
    "import requests\n",
    "exec(requests.get(\"https://courdier.pythonanywhere.com/get-send-code\").content)\n",
    "name = input(\"Votre prenom NOM :\")\n",
    "session = input('Session Id:')\n",
    "send(\"TD3\", 3)"
   ]
  },
  {
   "cell_type": "code",
   "execution_count": null,
   "metadata": {},
   "outputs": [],
   "source": [
    "from answers_td3 import *"
   ]
  },
  {
   "cell_type": "markdown",
   "metadata": {},
   "source": [
    "# Listes et Fonctions"
   ]
  },
  {
   "cell_type": "markdown",
   "metadata": {},
   "source": [
    "Une liste est une collection ordonnée et modifiable d'éléments éventuellement hétérogènes. Une liste se définit par une suite d'éléments séparés par des virgules. Cette suite est entourée par des crochets.\n",
    "Les opérations sur les listes dans ce TD seront : la concaténation +, la répétition *, l'accès à un élément par son indice [] et l'extraction de sous-liste [:].\n",
    "\n",
    "Une fonction (ou function) est une suite d'instructions que l'on peut nommer et qui s'utilisent comme un élément d'une expression. Une fonction s'appelle par son nom en lui passant des paramètres. Elle se termine en retournant une valeur. Dans d'autres langages de programmation, il existe la notion de procédure qui est une fonction qui ne retourne aucune valeur. Elle s'utilise comme une instruction. En python, cette distinction n'existe pas, une fonction s'utilise aussi bien dans une expression que comme une instruction. La définition d'une fonction est la suivante :\n",
    "<pre>\n",
    "def nomDeLaFonction(liste de paramètres):\n",
    "    ...\n",
    "    bloc d'instructions\n",
    "    ...\n",
    "</pre>"
   ]
  },
  {
   "cell_type": "markdown",
   "metadata": {},
   "source": [
    "## Les listes en python"
   ]
  },
  {
   "cell_type": "markdown",
   "metadata": {},
   "source": [
    "### Exercice 3.1"
   ]
  },
  {
   "cell_type": "markdown",
   "metadata": {},
   "source": [
    "1) Créez la liste couleur ne contenant aucun élément. Ensuite __ajouter__ les chaînes de caractères suivantes comme\n",
    "éléments à cette liste : rouge, vert, bleue."
   ]
  },
  {
   "cell_type": "code",
   "execution_count": null,
   "metadata": {},
   "outputs": [],
   "source": [
    "colors=test_exo_3_11()# exécution de l'exercice\n",
    "print (\"couleurs =\", colors) "
   ]
  },
  {
   "cell_type": "code",
   "execution_count": null,
   "metadata": {},
   "outputs": [],
   "source": [
    "# Voir le code source de l'exercice\n",
    "test_exo_3_11??"
   ]
  },
  {
   "cell_type": "markdown",
   "metadata": {},
   "source": [
    "2) Ecrire une expression conditionnelle qui affiche 'red' si rouge est un élément qui appartient à la liste couleur."
   ]
  },
  {
   "cell_type": "code",
   "execution_count": null,
   "metadata": {},
   "outputs": [],
   "source": [
    "#Est-ce que l'élément 'rouge' est dans la liste colors\n",
    "if 'rouge' in colors:\n",
    "    print (\"red\")"
   ]
  },
  {
   "cell_type": "markdown",
   "metadata": {},
   "source": [
    "3) Créez la liste number qui contient les nombres de 0 à 19. Astuce : utilisez la fonction list() et range()."
   ]
  },
  {
   "cell_type": "code",
   "execution_count": 12,
   "metadata": {},
   "outputs": [
    {
     "name": "stdout",
     "output_type": "stream",
     "text": [
      "[0, 1, 2, 3, 4, 5, 6, 7, 8, 9, 10, 11, 12, 13, 14, 15, 16, 17, 18, 19]\n"
     ]
    }
   ],
   "source": [
    "number = list(range(20))\n",
    "print (number)"
   ]
  },
  {
   "cell_type": "markdown",
   "metadata": {},
   "source": [
    "En utilisant l'opérateur d'extraction de sous-liste [:] créer à partir de la liste number une liste l1 contenant les nombres\n",
    "de 4 à 8 et une liste l1 contenant tous les nombres de 13 à 19."
   ]
  },
  {
   "cell_type": "code",
   "execution_count": 19,
   "metadata": {},
   "outputs": [
    {
     "name": "stdout",
     "output_type": "stream",
     "text": [
      "l1= [4, 5, 6, 7, 8]\n",
      "l2= [13, 14, 15, 16, 17, 18, 19]\n",
      "[6, 6]\n",
      "[6, 7, 8, 4, 5]\n"
     ]
    }
   ],
   "source": [
    "l1 = number[4:9]\n",
    "l2 = number[13:]\n",
    "print (\"l1=\", l1)\n",
    "print (\"l2=\", l2)\n",
    "print ([l1[2]] + [l1[2]])\n",
    "print (l1[2] + l1[2])"
   ]
  },
  {
   "cell_type": "markdown",
   "metadata": {},
   "source": [
    "4) Créez une liste unzero qui contient 100 fois le nombre 1, suivi d'un 0 et de 100 fois le nombre 1."
   ]
  },
  {
   "cell_type": "code",
   "execution_count": 22,
   "metadata": {},
   "outputs": [
    {
     "name": "stdout",
     "output_type": "stream",
     "text": [
      "[1, 1, 1, 1, 1, 1, 1, 1, 1, 1, 1, 1, 1, 1, 1, 1, 1, 1, 1, 1, 1, 1, 1, 1, 1, 1, 1, 1, 1, 1, 1, 1, 1, 1, 1, 1, 1, 1, 1, 1, 1, 1, 1, 1, 1, 1, 1, 1, 1, 1, 1, 1, 1, 1, 1, 1, 1, 1, 1, 1, 1, 1, 1, 1, 1, 1, 1, 1, 1, 1, 1, 1, 1, 1, 1, 1, 1, 1, 1, 1, 1, 1, 1, 1, 1, 1, 1, 1, 1, 1, 1, 1, 1, 1, 1, 1, 1, 1, 1, 1, 'toto', 1, 1, 1, 1, 1, 1, 1, 1, 1, 1, 1, 1, 1, 1, 1, 1, 1, 1, 1, 1, 1, 1, 1, 1, 1, 1, 1, 1, 1, 1, 1, 1, 1, 1, 1, 1, 1, 1, 1, 1, 1, 1, 1, 1, 1, 1, 1, 1, 1, 1, 1, 1, 1, 1, 1, 1, 1, 1, 1, 1, 1, 1, 1, 1, 1, 1, 1, 1, 1, 1, 1, 1, 1, 1, 1, 1, 1, 1, 1, 1, 1, 1, 1, 1, 1, 1, 1, 1, 1, 1, 1, 1, 1, 1, 1, 1, 1, 1, 1, 1]\n"
     ]
    }
   ],
   "source": [
    "unzero = [1]*100 + ['toto'] + [1]*100\n",
    "print(unzero)"
   ]
  },
  {
   "cell_type": "markdown",
   "metadata": {},
   "source": [
    "4) Créez une liste unzero qui contient 100 fois le nombre 1 suivi d'un 0 et de 100 fois le nombre 1. Afficher la longueur de la liste ainsi créée. Quel est l'indice de l'élément 0 ?"
   ]
  },
  {
   "cell_type": "markdown",
   "metadata": {},
   "source": [
    "Afficher la longueur de la liste ainsi créée. "
   ]
  },
  {
   "cell_type": "code",
   "execution_count": 25,
   "metadata": {},
   "outputs": [
    {
     "name": "stdout",
     "output_type": "stream",
     "text": [
      "201\n"
     ]
    }
   ],
   "source": [
    "print (len( unzero ))"
   ]
  },
  {
   "cell_type": "code",
   "execution_count": 24,
   "metadata": {},
   "outputs": [
    {
     "name": "stdout",
     "output_type": "stream",
     "text": [
      "100\n",
      "toto\n"
     ]
    }
   ],
   "source": [
    "print (unzero.index('toto')) # affiche ou se trouve la valeur 'toto' ds la liste\n",
    "print (unzero[100]) # affiche ce qu'il y a ds la liste à l'index 100"
   ]
  },
  {
   "cell_type": "code",
   "execution_count": 33,
   "metadata": {},
   "outputs": [
    {
     "name": "stdout",
     "output_type": "stream",
     "text": [
      "[20, 30, 40, 50, 60, 70]\n"
     ]
    }
   ],
   "source": [
    "print(list(range(20,80,10)))"
   ]
  },
  {
   "cell_type": "markdown",
   "metadata": {},
   "source": [
    "5) Définissez les listes l3 = [1, 2, 3] et l4 = [20, 30, 40, 50, 60, 70].\n",
    "A partir de l3 et l4 et en utilisant les opérateurs de concaténation, de répétition et d'extraction créez la liste :  \n",
    "[2, 20, 30, 40, 50, 3, 3, 3, 3, 3]"
   ]
  },
  {
   "cell_type": "code",
   "execution_count": 39,
   "metadata": {},
   "outputs": [
    {
     "name": "stdout",
     "output_type": "stream",
     "text": [
      "[20, 30, 40, 50, 60, 70]\n",
      "[2]\n",
      "[20, 30, 40, 50]\n",
      "[3, 3, 3, 3, 3]\n",
      "17\n",
      "[2, 3, 3, 3, 3, 3]\n"
     ]
    },
    {
     "data": {
      "text/plain": [
       "[2, 20, 30, 40, 50, 3, 3, 3, 3, 3]"
      ]
     },
     "execution_count": 39,
     "metadata": {},
     "output_type": "execute_result"
    }
   ],
   "source": [
    "l3 = [1, 2, 3]\n",
    "l4 = list(range(20,80,10))\n",
    "print ([l3 [1]])\n",
    "print (l4 [:4])\n",
    "print ([l3 [2]]*5)\n",
    "print (l3 [1] + l3 [2]*5)\n",
    "print ([l3 [1]] + [l3 [2]]*5)\n",
    "[l3 [1]] + l4 [:4] + [l3 [2]]*5"
   ]
  },
  {
   "cell_type": "markdown",
   "metadata": {},
   "source": [
    "### Exercice 3.2"
   ]
  },
  {
   "cell_type": "markdown",
   "metadata": {},
   "source": [
    "En premier, vous allez écrire un programme qui propose en menu l'appel des fonctions que vous allez développer par la suite. Ecrivez le programme qui affiche ce menu, qui saisi le choix de l'utilisateur, qui vérifie la validité sinon il recommence jusqu'à recevoir un choix valide puis qui exécute la fonction choisie dans le menu. Lorsque l'utilisateur rentre un mauvais choix, le message d'erreur \"Erreur : choix invalide, choisir une valeur [1..3]\" s'affiche avant de re-inviter l'utilisateur à saisir un nouveau choix.\n",
    "<pre>\n",
    "1. indoccur : occurence d'une valeur dans une liste\n",
    "2. que0et1 : tous les elements ont la m^eme valeur : soit 0, soit 1\n",
    "3. Quitter\n",
    "Votre choix :\n",
    "</pre>"
   ]
  },
  {
   "cell_type": "code",
   "execution_count": null,
   "metadata": {},
   "outputs": [],
   "source": [
    "# Voir une execution de ce programme\n",
    "test_exo_3_2()"
   ]
  },
  {
   "cell_type": "code",
   "execution_count": null,
   "metadata": {},
   "outputs": [],
   "source": [
    "# Voir le code source de l'exercice\n",
    "test_exo_3_2??"
   ]
  },
  {
   "cell_type": "markdown",
   "metadata": {},
   "source": [
    "## pogrammer en python avec des fonctions"
   ]
  },
  {
   "cell_type": "markdown",
   "metadata": {},
   "source": [
    "### Exercice 3.3"
   ]
  },
  {
   "cell_type": "markdown",
   "metadata": {},
   "source": [
    "Ecrivez une fonction __indoccur__ qui prend en paramètres une liste l\n",
    "et une valeur v et retourne comme résultat la liste\n",
    "des indices des occurrences de la valeur v dans la liste l.\n",
    "Par exemple l'appel : indoccur([3,2,1,4,1,1,5,8,3,1], 1) doit retourner la liste [2,4,5,9] car 2,4,5,et 9 sont\n",
    "les indices où 1 apparaît dans la liste donnée."
   ]
  },
  {
   "cell_type": "code",
   "execution_count": null,
   "metadata": {},
   "outputs": [],
   "source": [
    "# Voir une exécution de l'exercice\n",
    "l=[3,2,1,4,1,1,5,8,3,1]\n",
    "print(indoccur_alt (l,1))\n",
    "print(indoccur_alt (l,4))\n",
    "indoccur_alt (l,3)"
   ]
  },
  {
   "cell_type": "code",
   "execution_count": null,
   "metadata": {},
   "outputs": [],
   "source": [
    "# Voir le code source de l'exercice\n",
    "indoccur_alt??"
   ]
  },
  {
   "cell_type": "markdown",
   "metadata": {},
   "source": [
    "### Exercice 3.4"
   ]
  },
  {
   "cell_type": "markdown",
   "metadata": {},
   "source": [
    "Dénissez en Python une fonction __que0et1__ qui prend en paramètre une liste et qui retourne le booléen True si et seulement si les éléments de la liste donnée ne sont que des 0 et des 1.\n",
    "Par exemple l'appel : que0et1([0,0,0,1,0,0,1]) doit retourner True."
   ]
  },
  {
   "cell_type": "code",
   "execution_count": null,
   "metadata": {},
   "outputs": [],
   "source": [
    "# Exemple d'appel de la fonction que0et1\n",
    "l= [0,0,1,1,0,0,1]\n",
    "que0et1(l)"
   ]
  },
  {
   "cell_type": "code",
   "execution_count": null,
   "metadata": {},
   "outputs": [],
   "source": [
    "# Voir le code source de l'exercice\n",
    "que0et1??"
   ]
  },
  {
   "cell_type": "code",
   "execution_count": null,
   "metadata": {},
   "outputs": [],
   "source": [
    "# Exemple d'appel ddu programme complet\n",
    "test_exo_3_3et4()"
   ]
  },
  {
   "cell_type": "code",
   "execution_count": null,
   "metadata": {},
   "outputs": [],
   "source": [
    "# Voir le code source de l'exercice avec l'appel des fonctions\n",
    "test_exo_3_3et4??"
   ]
  },
  {
   "cell_type": "markdown",
   "metadata": {},
   "source": [
    "### Exercice 3.5"
   ]
  },
  {
   "cell_type": "markdown",
   "metadata": {},
   "source": [
    "Dénissez en Python une fonction __elem_ind_pair__ qui prend en paramètre une liste et qui retourne comme résultat une nouvelle liste (donc on ne modifie pas celle donnée en paramètre !) formée avec les éléments d'indice pair de la\n",
    "liste donnée.\n",
    "Par exemple l'appel : elem_ind_pair([3,7,9,1,2,0,4]) doit retourner la liste [3,9,2,4]"
   ]
  },
  {
   "cell_type": "code",
   "execution_count": null,
   "metadata": {},
   "outputs": [],
   "source": [
    "# Voir une exécution de l'exercice\n",
    "elem_ind_pair(\"3536898799\")"
   ]
  },
  {
   "cell_type": "code",
   "execution_count": null,
   "metadata": {},
   "outputs": [],
   "source": [
    "# Voir le code source de l'exercice\n",
    "elem_ind_pair??"
   ]
  },
  {
   "cell_type": "markdown",
   "metadata": {},
   "source": [
    "### Exercice 3.6"
   ]
  },
  {
   "cell_type": "markdown",
   "metadata": {},
   "source": [
    "Définissez une fonction __est_triee__ qui prend en paramètre une liste et qui retourne le booléen True si et seulement les valeurs de la liste sont triées (de gauche à droite) en ordre croissant."
   ]
  },
  {
   "cell_type": "code",
   "execution_count": null,
   "metadata": {},
   "outputs": [],
   "source": [
    "# Voir une exécution de l'exercice \n",
    "liste_triee=[2,4,9,45,56,89]\n",
    "result=est_triee(liste_triee)\n",
    "print(\"liste \", liste_triee, \" : \", result)"
   ]
  },
  {
   "cell_type": "code",
   "execution_count": null,
   "metadata": {},
   "outputs": [],
   "source": [
    "# Voir une exécution de l'exercice\n",
    "liste_non_triee=[2,4,56,12,45,89]\n",
    "result=est_triee(liste_non_triee)\n",
    "print(\"liste \", liste_non_triee, \" : \", result)"
   ]
  },
  {
   "cell_type": "code",
   "execution_count": null,
   "metadata": {},
   "outputs": [],
   "source": [
    "# Voir le code source de l'exercice\n",
    "est_triee??"
   ]
  },
  {
   "cell_type": "markdown",
   "metadata": {},
   "source": [
    "### Exercice 3.7"
   ]
  },
  {
   "cell_type": "markdown",
   "metadata": {},
   "source": [
    "On a vu en cours qu'une liste en python est une collection ordonnée d'éléments de valeurs quelconques. En particulier les éléments d'une liste peuvent être des listes. Ainsi la liste [[1,2,3], [4,5]] est formée de deux éléments qui sont\n",
    "les listes [1,2,3] et [4,5].\n",
    "\n",
    "Ecrivez une fonction __listesom__ qui prend en paramètres une liste l1 de listes de nombres et qui retourne comme résultat la listes constituées des sommes des éléments de chacune des listes de l1.\n",
    "\n",
    "Par exemple l'appel : listesom([[1,2,3], [4], [5,6]]) doit retourner la liste [6,4,11]"
   ]
  },
  {
   "cell_type": "code",
   "execution_count": null,
   "metadata": {},
   "outputs": [],
   "source": [
    "# Voir une exécution de l'exercice\n",
    "listesom([[1,2,3], [4], [5,6]])"
   ]
  },
  {
   "cell_type": "code",
   "execution_count": null,
   "metadata": {},
   "outputs": [],
   "source": [
    "# Voir le code source de l'exercice\n",
    " listesom??"
   ]
  },
  {
   "cell_type": "markdown",
   "metadata": {},
   "source": [
    "### Exercice 3.8"
   ]
  },
  {
   "cell_type": "markdown",
   "metadata": {},
   "source": [
    "Ecrivez en Python une fonction singleton qui prend en paramètre une liste quelconque l\n",
    "et qui retourne comme\n",
    "résultat une liste formées à partir des éléments de l, chacun plac\u0013e seul dans une liste.\n",
    "\n",
    "Par exemple l'appel : singleton([1,2,3,4]) doit retourner la liste [[1], [2], [3], [4]]"
   ]
  },
  {
   "cell_type": "code",
   "execution_count": null,
   "metadata": {},
   "outputs": [],
   "source": [
    "# Voir une exécution de l'exercice\n",
    "singleton([1,2,3,4])"
   ]
  },
  {
   "cell_type": "code",
   "execution_count": null,
   "metadata": {},
   "outputs": [],
   "source": [
    "# Voir le code source de l'exercice\n",
    "singleton??"
   ]
  },
  {
   "cell_type": "markdown",
   "metadata": {},
   "source": [
    "### Exercice 3.9"
   ]
  },
  {
   "cell_type": "markdown",
   "metadata": {},
   "source": [
    "Ecrivez une fonction fusion qui prend en paramètres deux listes (pas forcément de m^emes longueurs) de valeurs triées en ordre croissant et qui retourne comme résultat une nouvelle liste triée en ordre croissant résultant de la fusion des deux listes données en paramètres.\n",
    "\n",
    "Par exemple l'appel : fusion([3,7,9,10], [1,3,4,8,9,12,15]) retourne comme résultat : [1,3,3,4,7,8,9,9,10,12,15]\n",
    "Le principe est le suivant : on parcours les listes l1 et l2 et on construit la liste résultat en insérant à chaque étape la plus petite des deux valeurs courantes de l1 et l2. On passe à l'étape suivante en avançant dans l1 (respectivement dans l2) si c'est la valeur de l1 (respectivement de l2) qui a été insérée. Lorsqu'on arrive au bout d'une des deux listes, il reste à insérer les valeurs restant dans l'autre. Attention de bien gérer les indices !"
   ]
  },
  {
   "cell_type": "code",
   "execution_count": null,
   "metadata": {},
   "outputs": [],
   "source": [
    "# Voir une exécution de l'exercice\n",
    "fusion([3,7,9,10], [1,3,4,8,9,12,15])"
   ]
  },
  {
   "cell_type": "code",
   "execution_count": null,
   "metadata": {},
   "outputs": [],
   "source": [
    "# Voir le code source de l'exercice\n",
    "fusion??"
   ]
  },
  {
   "cell_type": "markdown",
   "metadata": {},
   "source": [
    "### Exercice 3.10"
   ]
  },
  {
   "cell_type": "markdown",
   "metadata": {},
   "source": [
    "Ecrivez une fonction carre01 qui prend en paramètre un entier n et qui retourne comme résultat la liste représentant un tableau carré de n lignes et n colonnes rempli de 1 sauf le tour qui est rempli de 0. Si n < 2 la fonction doit retourner une liste vide.\n",
    "<pre>\n",
    "Par exemple l'appel carre01(5) doit renvoyer la liste :\n",
    "[[0,0,0,0,0], [0,1,1,1,0], [0,1,1,1,0], [0,1,1,1,0], [0,0,0,0,0]] \n",
    "qu'on peut voir sous la forme :\n",
    "[[0,0,0,0,0],\n",
    "[0,1,1,1,0],\n",
    "[0,1,1,1,0],\n",
    "[0,1,1,1,0],\n",
    "[0,0,0,0,0]]</pre>"
   ]
  },
  {
   "cell_type": "code",
   "execution_count": null,
   "metadata": {},
   "outputs": [],
   "source": [
    "# Voir une exécution de l'exercice\n",
    "carre01(5)"
   ]
  },
  {
   "cell_type": "code",
   "execution_count": null,
   "metadata": {},
   "outputs": [],
   "source": [
    "# Voir le code source de l'exercice\n",
    "carre01??"
   ]
  },
  {
   "cell_type": "code",
   "execution_count": null,
   "metadata": {},
   "outputs": [],
   "source": [
    "# Autre codage possible\n",
    "carre01_2??"
   ]
  }
 ],
 "metadata": {
  "kernelspec": {
   "display_name": "Python 3",
   "language": "python",
   "name": "python3"
  },
  "language_info": {
   "codemirror_mode": {
    "name": "ipython",
    "version": 3
   },
   "file_extension": ".py",
   "mimetype": "text/x-python",
   "name": "python",
   "nbconvert_exporter": "python",
   "pygments_lexer": "ipython3",
   "version": "3.6.8"
  }
 },
 "nbformat": 4,
 "nbformat_minor": 2
}
