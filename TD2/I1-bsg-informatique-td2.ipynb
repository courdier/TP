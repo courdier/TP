{
 "cells": [
  {
   "cell_type": "markdown",
   "metadata": {},
   "source": [
    "TD2 BSG - Boucles - Structures de controle itératives while et for"
   ]
  },
  {
   "cell_type": "code",
   "execution_count": null,
   "metadata": {},
   "outputs": [],
   "source": [
    "l=[3,6,4]\n",
    "len(l)"
   ]
  },
  {
   "cell_type": "markdown",
   "metadata": {},
   "source": [
    "[Qu'est-ce que notebook ?](http://nbviewer.jupyter.org/github/ipython/ipython/blob/3.x/examples/Notebook/Index.ipynb)"
   ]
  },
  {
   "cell_type": "code",
   "execution_count": null,
   "metadata": {},
   "outputs": [],
   "source": [
    "rep21=\"Ce programme affiche la table de multiplication de 3 pour les 10 premiers termes\"\n",
    "\n",
    "def test_exo_2_2():\n",
    "    a = int( input (\" Donner la valeur de a : \"))\n",
    "    b = int( input (\" Donner la valeur de b : \"))\n",
    "    # On utilise une variable i qui va prendre les valeurs des entiers compris entre a et b\n",
    "    # Au départ on initialise i avec la valeur de a\n",
    "    i = a\n",
    "    # Tant que i n'a pas dépassée la valeur de b\n",
    "    while i <= b:\n",
    "        # On affiche la valeur de i uniquement si celle-ci vérifie la condition demandée\n",
    "        if (i%3 != 0) and( (i*i -4) % 7 == 0):\n",
    "            print (i)\n",
    "        # On passe a l'entier suivant avant de boucler\n",
    "        i = i+1\n",
    "        \n",
    "def test_exo_2_3():\n",
    "    # Ne pas oublier de convertir la valeur retournée par input en entier\n",
    "    nombre = int( input (\" Donner un entier [1..4] : \"))\n",
    "    # Tant que nombre n'est pas dans l'intervalle\n",
    "    while not ( nombre >=1 and nombre <= 4):\n",
    "        nombre = int( input (\" Donner un entier [1..4] : \"))\n",
    "\n",
    "def test_exo_2_4():\n",
    "    # Le programme doit s'arrêter lorsque l'utilisateur a rentré 15 \n",
    "    # entiers ou bien s'il a saisi la valeur 0. Traduit par une boucle\n",
    "    # while, cela veut dire que les itérations doivent être réalisées \n",
    "    # tant que la valeur saisie n'est pas 0 et que le nombre d'entiers\n",
    "    # rentré n'est pas 15.\n",
    "    # Le test de la boucle portant sur les variables a et nbentiers il\n",
    "    # est nécessaire de les initialiser avant de commencer la boucle :\n",
    "    # on effectue une première saisie de a et on initialise nbentiers \n",
    "    # à 1 (ce qui correspond à la première saisie).\n",
    "    # A la fin de chaque itération il ne faut pas oublier de re-saisir\n",
    "    # la valeur de a et d'incrémenter nbentiers.\n",
    "    nbentiers = 0\n",
    "    a = 1\n",
    "    while ( nbentiers <15 and a !=0) :\n",
    "        a = int( input (\" Donnez un entier : \"))\n",
    "        if a !=0:\n",
    "            nbentiers = nbentiers +1\n",
    "            print (\" Entiers numero\",nbentiers ,\":\",a)\n",
    "    print(\" Merci \")\n",
    "    \n",
    "def test_exo_2_5():\n",
    "    a=int( input (\" Donner la valeur de a :\"))\n",
    "    b=int( input (\" Donner la valeur de b : \"))\n",
    "    # La variable somme va contenir la somme des carrés des entiers impairs\n",
    "    # compris entre a et b\n",
    "    # On initialise cette variable à 0\n",
    "    somme = 0\n",
    "    # On utilise une variable i qui va prendre les valeurs des entiers compris entre a et b\n",
    "    # Au départ on initialise i avec la valeur de a\n",
    "    i = a\n",
    "    # Tant que i n'a pas dépassé la valeur de b\n",
    "    while i <= b:\n",
    "    # Si i est impair on ajoute son carré dans la somme\n",
    "        if i%2 == 1:\n",
    "            somme = somme + i*i\n",
    "        # Et on passe a l'entier suivant avant de boucler\n",
    "        i = i+1\n",
    "    # En sortant de la boucle while (lorsque i est devenu strictement supérieur a b)\n",
    "    # la variable somme contient le résultat\n",
    "    print (\"La somme des carrés des impairs compris entre \", \n",
    "           a, \" et \", b, \" vaut : \", somme )    \n",
    "    \n",
    "from random import *\n",
    "def test_exo_2_6():   \n",
    "    # On choisit au hasard le nombre \u0012a trouver\n",
    "    nombre = randint (1 ,100)\n",
    "    \n",
    "    # La variable proposition va contenir l'entier proposé par l'utilisateur\n",
    "    # On initialise cette variable en demandant une première saisie\n",
    "    proposition = int( input (\" Proposer un nombre entre 1 et 100 : \"))\n",
    "\n",
    "    # La variable nbcoup contient le nombre d'essais effectués par l'utilisateur\n",
    "    # On l'initialise a 1 car on a demandé a l'utilisateur une première proposition\n",
    "    nbcoup = 1\n",
    "\n",
    "    # Tant que la proposition est différente du nombre à trouver\n",
    "    while proposition != nombre :\n",
    "        # On affiche un message selon que la proposition est plus petite ou plus grande\n",
    "        # que le nombre à trouver\n",
    "        if proposition < nombre :\n",
    "            print (\" Trop petit \")\n",
    "        else :\n",
    "            print (\" Trop grand \")\n",
    "        # Puis avant de boucler on saisie une nouvelle proposition\n",
    "        proposition = int( input (\" Proposer un nombre entre 1 et 100 : \"))\n",
    "        # ce qui correspond à un essai de plus\n",
    "        nbcoup = nbcoup +1\n",
    "        # Lorsqu'on sort de la boucle c'est que la proposition est égale au nombre \u0012a trouver\n",
    "        print (\" Gagné en \", nbcoup , \" coups \")\n",
    "\n",
    "def test_exo_2_7():\n",
    "    # Dans la boucle while qu'on utilise pour calculer chaque terme, \n",
    "    # pour une valeur de i, si on veut directement traduire la\n",
    "    # formule ui = 1/2 × ui_1, on peut utiliser deux variables : \n",
    "    # u_i qui contient la valeur du terme ui et u_imoins1 qui contient\n",
    "    # la valeur du terme précédent.\n",
    "    # Dans ce cas la boucle commence pour i=1 en ayant initialisée la \n",
    "    # variable u_imoins1 avec la valeur de a, c'est à dire u0.\n",
    "    # Il ne faut pas oublier, à la fin de chaque itération de remplacer\n",
    "    # la valeur de u_imoins1 par celle de u i, après avoir affiché\n",
    "    # la valeur u_i et de passer à la valeur i+1 suivante\n",
    "    u_imoins1 = int( input (\" Donner la valeur de a : \"))\n",
    "    n=int( input (\" Donner n :\"))\n",
    "    i = 1\n",
    "    while i < n :\n",
    "        if u_imoins1 % 2 == 0:\n",
    "            u_i = u_imoins1 // 2\n",
    "        else :\n",
    "            u_i = 3 * u_imoins1 + 1\n",
    "    print (u_i)\n",
    "    u_imoins1 = u_i\n",
    "    i = i + 1\n",
    "\n",
    "def test_exo_2_8():\n",
    "    # Programme qui compte le nombre de voyelles (minuscule ou majuscule non accentuée)\n",
    "    # d'une chaîne de caractères saisie.\n",
    "    phrase = input (\" Donner une phrase : ? \")\n",
    "    # On compte le nombre de voyelles dans la variable nbvoy\n",
    "    nbvoy = 0\n",
    "    # On parcourt la séquence de caractères phrase en comptant\n",
    "    # et on incrémente nbvoy pour chaque voyelle rencontrée.\n",
    "    # Un caractère est une voyelle s'il apparaît dans la chaîne \"aeiouyAEIOUY\"\n",
    "    for c in phrase :\n",
    "        if c in \" aeiouyAEIOUY \":\n",
    "            nbvoy = nbvoy + 1\n",
    "    print (\"La phrase : \", phrase )\n",
    "    print (\" contient : \", nbvoy , \" voyelles .\")\n",
    "\n",
    "def test_exo_2_9():\n",
    "    phrase = input (\" Donner une phrase : \")\n",
    "\n",
    "    # On parcourt la séquence de caractères phrase :\n",
    "    # Pour chaque caractère c\n",
    "    # si c'est une voyelle on l'affiche\n",
    "    # sinon si c'est une lettre on affiche * a la place\n",
    "    # sinon on affiche le caractère c\n",
    "\n",
    "    for c in phrase :\n",
    "        # On teste si c est une voyelle\n",
    "        if c in \" aeiouyAEIOUY \":\n",
    "            print (c, end=\"\")\n",
    "        else :\n",
    "            # Ca n'est pas une voyelle mais est-ce une lettre ?\n",
    "            if (c > \"A\" and c <= \"Z\") or (c >= \"a\" and c <= \"z\"):\n",
    "                print (\"*\", end=\"\")\n",
    "            else :\n",
    "                # Ca n'est ni une voyelle ni une lettre\n",
    "                print (c, end=\"\")\n",
    "    \n",
    "def test_exo_2_10():\n",
    "    # programme brin ADN\n",
    "    print (\"Un brin d'ADN est une séquence de lettre composée uniquement avec des caractères A, C, G et T\")\n",
    "    brin = input (\"Donner une séquence de lettres qui représente un brin d'ADN : \")\n",
    "    # Vérification que la chaîne ne contient que des ACGT\n",
    "    # A priori on suppose que c'est vrai. On teste les caractères\n",
    "    # et si l'un deux n'est pas correct c'est faux\n",
    "    ok= True\n",
    "    for base in brin :\n",
    "        if not( base in \" AGCT \") :\n",
    "            ok = False\n",
    "    if not ok :\n",
    "        print (\"Il y a au moins une erreur dans le brin donné\")\n",
    "    else :\n",
    "        # On construit le brin complémentaire en parcourant\n",
    "        # les caractères du brin donné en entrée.\n",
    "        # Pour chaque caractère dans brin on ajoute le caractère\n",
    "        # complémentaire dans brin2 qui au départ est une chaîne vide\n",
    "        brin2 = \"\"\n",
    "        for base in brin :\n",
    "            if base == \"A\" :\n",
    "                duo = \"T\"\n",
    "            if base == \"T\" :\n",
    "                duo = \"A\"\n",
    "            if base == \"C\" :\n",
    "                duo = \"G\"\n",
    "            if base == \"G\" :\n",
    "                duo = \"C\"\n",
    "            brin2 = brin2 + duo\n",
    "        print (\"Le brin complementaire de :\")\n",
    "        print ( brin )\n",
    "        print (\"est : \")\n",
    "        print ( brin2)"
   ]
  },
  {
   "cell_type": "markdown",
   "metadata": {},
   "source": [
    "# Utilisation de la boucle while"
   ]
  },
  {
   "cell_type": "markdown",
   "metadata": {},
   "source": [
    "La boucle while sert à itérer (répéter) un bloc d'instructions tant qu'une condition est vérifiée. La condition est une expression booléenne, c'est-à-dire une expression qui est vraie (True) ou fausse (False)."
   ]
  },
  {
   "cell_type": "markdown",
   "metadata": {},
   "source": [
    "Rappel de quelques notions introduites dans le TD sur un exemple pour démarrer le TD"
   ]
  },
  {
   "cell_type": "code",
   "execution_count": null,
   "metadata": {},
   "outputs": [],
   "source": [
    "# comment demander une valeur à un utilisateur\n",
    "input(\"t'as quelle age ? \")"
   ]
  },
  {
   "cell_type": "code",
   "execution_count": null,
   "metadata": {},
   "outputs": [],
   "source": [
    "# comment stoker cette valeur dans un variable python\n",
    "age=input(\"t'as quelle age ? \")"
   ]
  },
  {
   "cell_type": "code",
   "execution_count": null,
   "metadata": {},
   "outputs": [],
   "source": [
    "# que vaut la variable age ?\n",
    "age"
   ]
  },
  {
   "cell_type": "code",
   "execution_count": null,
   "metadata": {},
   "outputs": [],
   "source": [
    "# de quelle type est la variable age ?\n",
    "type(age)"
   ]
  },
  {
   "cell_type": "code",
   "execution_count": null,
   "metadata": {},
   "outputs": [],
   "source": [
    "# changer le type d'une variable pour la convertir un entier\n",
    "age = int(age)"
   ]
  },
  {
   "cell_type": "code",
   "execution_count": null,
   "metadata": {},
   "outputs": [],
   "source": [
    "# la variable age stocke maintenant une valeur de type entier\n",
    "age"
   ]
  },
  {
   "cell_type": "code",
   "execution_count": null,
   "metadata": {},
   "outputs": [],
   "source": [
    "# introduction d'une boucle while... objet du TD de ce jour\n",
    "while age > 18:\n",
    "    print(\"t'es plus mineur !\")\n",
    "    age=int(input(\"entre un age plus jeune\"))"
   ]
  },
  {
   "cell_type": "markdown",
   "metadata": {},
   "source": [
    "Programme complet"
   ]
  },
  {
   "cell_type": "code",
   "execution_count": null,
   "metadata": {},
   "outputs": [],
   "source": [
    "age=int(input(\"t'as quelle age ? \"))\n",
    "while age > 18:\n",
    "    print(\"t'es plus mineur !\")\n",
    "    age=int(input(\"entre un age pour une personne encore mineure\"))\n",
    "print(\"Bonjour marmaille\")"
   ]
  },
  {
   "cell_type": "markdown",
   "metadata": {},
   "source": [
    "### Exercice 2.1"
   ]
  },
  {
   "cell_type": "markdown",
   "metadata": {},
   "source": [
    "La boucle while sert à itérer (répéter) un bloc d'instructions tant qu'une condition est vérifiée. La condition est une expression booléenne, c'est-à-dire une expression qui est vraie (True) ou fausse (False).\n",
    "\n",
    "Copiez et exécutez le programme ci-dessous. Indiquez le traitement fait par ce programme. Qu'est ce qui se passe ?"
   ]
  },
  {
   "cell_type": "code",
   "execution_count": null,
   "metadata": {},
   "outputs": [],
   "source": [
    "i=1\n",
    "while i<=10:\n",
    "    print(\"3 *\",i,\"=\",3*i)\n",
    "    i=i+1"
   ]
  },
  {
   "cell_type": "markdown",
   "metadata": {},
   "source": [
    "Indiquez le traitement fait par ce programme. Qu'est ce qui se passe ?"
   ]
  },
  {
   "cell_type": "code",
   "execution_count": null,
   "metadata": {
    "scrolled": false
   },
   "outputs": [],
   "source": [
    "print(rep21)"
   ]
  },
  {
   "cell_type": "markdown",
   "metadata": {},
   "source": [
    "### Exercice 2.2"
   ]
  },
  {
   "cell_type": "markdown",
   "metadata": {},
   "source": [
    "Ecrivez un programme qui demande deux entiers a et b et qui affiche les nombres i compris entre a et b (inclus) tel que i n'est pas multiple de 3 et i**2 − 4 est multiple de 7."
   ]
  },
  {
   "cell_type": "code",
   "execution_count": null,
   "metadata": {},
   "outputs": [],
   "source": [
    "# Voir un exemple d'exécution de l'exercice\n",
    "test_exo_2_2()"
   ]
  },
  {
   "cell_type": "code",
   "execution_count": null,
   "metadata": {},
   "outputs": [],
   "source": [
    "# Voir le code source de l'exercice 2.2\n",
    "test_exo_2_2??"
   ]
  },
  {
   "cell_type": "markdown",
   "metadata": {},
   "source": [
    "### Exercice 2.3"
   ]
  },
  {
   "cell_type": "markdown",
   "metadata": {},
   "source": [
    "Ecrivez un programme qui demande la saisie d'un nombre entier jusqu'à ce que le nombre saisi soit compris entre 1 et 4 (inclus)."
   ]
  },
  {
   "cell_type": "code",
   "execution_count": null,
   "metadata": {},
   "outputs": [],
   "source": [
    "# Voir une exécution de l'exercice\n",
    "test_exo_2_3()"
   ]
  },
  {
   "cell_type": "code",
   "execution_count": null,
   "metadata": {},
   "outputs": [],
   "source": [
    "# Voir le code source de l'exercice 2.3\n",
    "test_exo_2_3??"
   ]
  },
  {
   "cell_type": "markdown",
   "metadata": {},
   "source": [
    "### Exercice 2.4"
   ]
  },
  {
   "cell_type": "markdown",
   "metadata": {},
   "source": [
    "Ecrivez un programme qui demande en boucle à l'utilisateur d'entrer des entiers et affiche chaque entier avec son numéro d'ordre de saisie. \n",
    "Le programme doit s'arrêter en affichant Merci lorsque l'utilisateur a rentrée 15 entiers ou bien s'il a saisi la valeur 0."
   ]
  },
  {
   "cell_type": "code",
   "execution_count": null,
   "metadata": {},
   "outputs": [],
   "source": [
    "#Voir une exécution de l'exercice 2.4\n",
    "test_exo_2_4()"
   ]
  },
  {
   "cell_type": "code",
   "execution_count": null,
   "metadata": {},
   "outputs": [],
   "source": [
    "# Voir le code source de l'exercice 2.4\n",
    "test_exo_2_4??"
   ]
  },
  {
   "cell_type": "markdown",
   "metadata": {},
   "source": [
    "### Exercice 2.5"
   ]
  },
  {
   "cell_type": "markdown",
   "metadata": {},
   "source": [
    "Ecrivez un programme qui demande deux entiers a et b et qui calcule et affiche la somme des carrés des entiers impairs compris entre a et b (a et b inclus).\n",
    "\n",
    "Par exemple, l'exécution du programme en donnant les valeurs 12 et 256 à a et b doit produire les affichages suivants :\n",
    "<pre>Donner la valeur de a : 12\n",
    "Donner la valeur de b : 256\n",
    "La somme des carr\u0013es des impairs compris entre 12 et 256 vaut : 2795874</pre>"
   ]
  },
  {
   "cell_type": "code",
   "execution_count": null,
   "metadata": {},
   "outputs": [],
   "source": [
    "#Voir une exécution de l'exercice\n",
    "test_exo_2_5()"
   ]
  },
  {
   "cell_type": "code",
   "execution_count": null,
   "metadata": {},
   "outputs": [],
   "source": [
    "# Voir le code source de l'exercice\n",
    "test_exo_2_5??"
   ]
  },
  {
   "cell_type": "markdown",
   "metadata": {},
   "source": [
    "### Exercice 2.6"
   ]
  },
  {
   "cell_type": "markdown",
   "metadata": {},
   "source": [
    "Ecrivez un programme qui demande à un joueur de trouver un nombre qui a été choisit au hasard entre 1 et 100 par la machine.\n",
    "Le programme doit ensuite demander en boucle au joueur de proposer un nombre et indiquer après chaque proposition si le nombre proposé est trop petit ou trop grand.\n",
    "Le programme s'arrête lorsque le joueur a trouvé le nombre et indique alors combien de coups ont été nécessaires.\n",
    "Pour choisir un nombre au hasard entre 1 et 100 vous utiliserez l'appel à la fonction randint(1,100) qui retourne un entier compris entre 1 et 100. Cette fonction nécessite d'importer le module random donc d'ajouter l'instruction suivante au début de votre programme : from random import *\n",
    "<pre>Exemple d'ex\u0013ecution :\n",
    "Proposer un nombre entre 1 et 100 : 50\n",
    "Trop petit\n",
    "Proposer un nombre entre 1 et 100 : 75\n",
    "Trop grand\n",
    "Proposer un nombre entre 1 et 100 : 62\n",
    "Gagn\u0013e en 3 coups</pre>"
   ]
  },
  {
   "cell_type": "code",
   "execution_count": null,
   "metadata": {},
   "outputs": [],
   "source": [
    "#Voir une exécution de l'exercice\n",
    "test_exo_2_6()"
   ]
  },
  {
   "cell_type": "code",
   "execution_count": null,
   "metadata": {},
   "outputs": [],
   "source": [
    "# Voir le code source de l'exercice\n",
    "test_exo_2_6??"
   ]
  },
  {
   "cell_type": "markdown",
   "metadata": {},
   "source": [
    "### Exercice 2.7"
   ]
  },
  {
   "cell_type": "markdown",
   "metadata": {},
   "source": [
    "Ecrivez un programme qui demande deux entiers a et n et qui affiche les n premiers termes de la suite définie par :\n",
    "<pre>u0 = a\n",
    "ui = 1/2 × ui_1, si ui_1 est pair\n",
    "ui = 3 × ui_1 + 1, si ui_1 est impair</pre>"
   ]
  },
  {
   "cell_type": "code",
   "execution_count": null,
   "metadata": {},
   "outputs": [],
   "source": [
    "#Voir une exécution de l'exercice\n",
    "test_exo_2_7()"
   ]
  },
  {
   "cell_type": "code",
   "execution_count": null,
   "metadata": {},
   "outputs": [],
   "source": [
    "# Voir le code source de l'exercice\n",
    "test_exo_2_7??"
   ]
  },
  {
   "cell_type": "markdown",
   "metadata": {},
   "source": [
    "# Utilisation de la boucle for"
   ]
  },
  {
   "cell_type": "markdown",
   "metadata": {},
   "source": [
    "Lorsque l'on doit traiter des données qui sont organisées en séquence comme les chaînes de caractères, le parcours de chaque élément de la séquence s'effectue par l'instruction d'itération à bornes définies for. L'exemple ci-dessous affiche les lettres une par une de la chaîne de caractères bonjour.\n",
    "<pre>for lettre in \" bonjour \":\n",
    "print ( lettre )</pre>"
   ]
  },
  {
   "cell_type": "code",
   "execution_count": null,
   "metadata": {},
   "outputs": [],
   "source": [
    "# autre façon d'écrire l'exercice 2.1 de ce TD\n",
    "for i in range (1,11):\n",
    "    print(\"3 *\",i,\"=\",3*i)"
   ]
  },
  {
   "cell_type": "markdown",
   "metadata": {},
   "source": [
    "### exercice 2.8"
   ]
  },
  {
   "cell_type": "markdown",
   "metadata": {},
   "source": [
    "Ecrivez un programme qui demande la saisie d'une phrase (une chaîne de caractères) et qui affiche combien de voyelles contient la phrase saisie. On comptera le nombre de voyelles minuscules et majuscules non accentuées.\n",
    "Indices : utilisez l'opérateur in qui permet de tester si un caractère appartient à une chaîne pour tester si une lettre est une voyelle.\n",
    "<pre>Exemple d'exécution :\n",
    "Donner une phrase : Combien cette PHRASE contient-t-elle de VOYELLES ?\n",
    "La phrase : Combien cette PHRASE contient-t-elle de VOYELLES ?\n",
    "contient : 17 voyelles.<pre>"
   ]
  },
  {
   "cell_type": "code",
   "execution_count": null,
   "metadata": {},
   "outputs": [],
   "source": [
    "#Voir une exécution de l'exercice\n",
    "test_exo_2_8()"
   ]
  },
  {
   "cell_type": "code",
   "execution_count": null,
   "metadata": {},
   "outputs": [],
   "source": [
    "# Voir le code source de l'exercice\n",
    "test_exo_2_8??"
   ]
  },
  {
   "cell_type": "markdown",
   "metadata": {},
   "source": [
    "### exercice 2.9"
   ]
  },
  {
   "cell_type": "markdown",
   "metadata": {},
   "source": [
    "Ecrivez un programme qui demande la saisie d'une phrase (une chaîne de caractères) et qui affiche cette phrase en remplaçant toutes les lettres qui ne sont pas des voyelles par le caractère *. Les voyelles doivent donc être affichées telles quelles ainsi que tous les autres caractères (ponctuation, etc ...)\n",
    "\n",
    "Indices : pensez à utiliser les opérateurs de comparaisons sur les caractères. Une lettre est un caractére compris entre \"A\" et \"Z\" ou entre \"a\" et \"z\". Pour que la fonction print ne passe pas à la ligne il faut utiliser le paramètre end=\"\"\n",
    "<pre>\n",
    "Exemple d'exécution :\n",
    "Donner une phrase : Voici des MAJUSCULES, des chiffres (par exemple 1 23 4 8.7) et d'autres caracteres!\n",
    "*oi*i *e* *A*U**U*E*, *e* **i***e* (*a* e*e***e 1 23 4 8.7) e* *'au**e* *a*a**e*e*!</pre>"
   ]
  },
  {
   "cell_type": "code",
   "execution_count": null,
   "metadata": {},
   "outputs": [],
   "source": [
    "#Voir une exécution de l'exercice\n",
    "test_exo_2_9()"
   ]
  },
  {
   "cell_type": "code",
   "execution_count": null,
   "metadata": {},
   "outputs": [],
   "source": [
    "# Voir le code source de l'exercice\n",
    "test_exo_2_9??"
   ]
  },
  {
   "cell_type": "markdown",
   "metadata": {},
   "source": [
    "### exercice 2.10"
   ]
  },
  {
   "cell_type": "markdown",
   "metadata": {},
   "source": [
    "Ecrivez un programme qui demande la saisie d'une phrase (une chaîne de caractères) et qui affiche combien de voyelles contient la phrase saisie. On comptera le nombre de voyelles minuscules et majuscules non accentuées.\n",
    "Indices : utilisez l'opérateur in qui permet de tester si un caractère appartient à une chaîne pour tester si une lettre est une voyelle.\n",
    "<pre>Exemple d'exécution :\n",
    "Donner une phrase : Combien cette PHRASE contient-t-elle de VOYELLES ?\n",
    "La phrase : Combien cette PHRASE contient-t-elle de VOYELLES ?\n",
    "contient : 17 voyelles.<pre>"
   ]
  },
  {
   "cell_type": "code",
   "execution_count": null,
   "metadata": {},
   "outputs": [],
   "source": [
    "#Voir une exécution de l'exercice\n",
    "test_exo_2_10()"
   ]
  },
  {
   "cell_type": "code",
   "execution_count": null,
   "metadata": {},
   "outputs": [],
   "source": [
    "# Voir le code source de l'exercice\n",
    "test_exo_2_10??"
   ]
  }
 ],
 "metadata": {
  "kernelspec": {
   "display_name": "Python 3",
   "language": "python",
   "name": "python3"
  },
  "language_info": {
   "codemirror_mode": {
    "name": "ipython",
    "version": 3
   },
   "file_extension": ".py",
   "mimetype": "text/x-python",
   "name": "python",
   "nbconvert_exporter": "python",
   "pygments_lexer": "ipython3",
   "version": "3.6.5"
  }
 },
 "nbformat": 4,
 "nbformat_minor": 2
}
