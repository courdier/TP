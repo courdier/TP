{
 "cells": [
  {
   "cell_type": "markdown",
   "metadata": {},
   "source": [
    "# TD2 Python - Listes et Fonctions\n",
    "\n",
    "Vous trouverez par la suite des exercices obligatoires et des exercices pour approfondir. Les exercices obligatoires sont\n",
    "précédés par le caractère *."
   ]
  },
  {
   "cell_type": "markdown",
   "metadata": {},
   "source": [
    "[Qu'est-ce que notebook ?](http://nbviewer.jupyter.org/github/ipython/ipython/blob/3.x/examples/Notebook/Index.ipynb)"
   ]
  },
  {
   "cell_type": "markdown",
   "metadata": {},
   "source": [
    "# Identifiez vous"
   ]
  },
  {
   "cell_type": "code",
   "execution_count": null,
   "metadata": {},
   "outputs": [],
   "source": [
    "print(\"Creation d'une session de suivi sous https://courdier.pythonanywhere.com/records...\")\n",
    "!wget https://raw.githubusercontent.com/courdier/TP/master/TD2/answers_td2.py\n",
    "import requests\n",
    "exec(requests.get(\"https://courdier.pythonanywhere.com/get-send-code\").content)\n",
    "name = input(\"Votre prenom NOM :\")\n",
    "session = 21 #input('Session Id:')\n",
    "send(\"TD2\", 2)"
   ]
  },
  {
   "cell_type": "code",
   "execution_count": 1,
   "metadata": {},
   "outputs": [],
   "source": [
    "from answers_td2 import *"
   ]
  },
  {
   "cell_type": "markdown",
   "metadata": {},
   "source": [
    "# Utilisation de la boucle while"
   ]
  },
  {
   "cell_type": "markdown",
   "metadata": {},
   "source": [
    "La boucle while sert à itérer (répéter) un bloc d'instructions tant qu'une condition est vérifiée. La condition est une expression booléenne, c'est-à-dire une expression qui est vraie (True) ou fausse (False)."
   ]
  },
  {
   "cell_type": "markdown",
   "metadata": {},
   "source": [
    "### Rappels de quelques notions introduites dans le TD sur un exemple pour démarrer le TD"
   ]
  },
  {
   "cell_type": "code",
   "execution_count": null,
   "metadata": {},
   "outputs": [],
   "source": [
    "# comment demander une valeur à un utilisateur\n",
    "input(\"t'as quelle age ? \")"
   ]
  },
  {
   "cell_type": "markdown",
   "metadata": {},
   "source": [
    "##### comment stoker cette valeur dans un variable python"
   ]
  },
  {
   "cell_type": "code",
   "execution_count": null,
   "metadata": {},
   "outputs": [],
   "source": [
    "age=input(\"t'as quelle age ? \")"
   ]
  },
  {
   "cell_type": "code",
   "execution_count": null,
   "metadata": {},
   "outputs": [],
   "source": [
    "# que vaut la variable age ?\n",
    "age"
   ]
  },
  {
   "cell_type": "code",
   "execution_count": null,
   "metadata": {},
   "outputs": [],
   "source": [
    "# de quelle type est la variable age ?\n",
    "type(age)"
   ]
  },
  {
   "cell_type": "code",
   "execution_count": null,
   "metadata": {},
   "outputs": [],
   "source": [
    "# changer le type d'une variable pour la convertir un entier\n",
    "age = int(age)"
   ]
  },
  {
   "cell_type": "code",
   "execution_count": null,
   "metadata": {},
   "outputs": [],
   "source": [
    "# la variable age stocke maintenant une valeur de type entier\n",
    "age"
   ]
  },
  {
   "cell_type": "code",
   "execution_count": null,
   "metadata": {},
   "outputs": [],
   "source": [
    "# introduction d'une boucle while... objet du TD de ce jour\n",
    "while age > 18:\n",
    "    print(\"t'es plus mineur !\")\n",
    "    age=int(input(\"entre un age plus jeune : \"))"
   ]
  },
  {
   "cell_type": "markdown",
   "metadata": {},
   "source": [
    "Programme complet"
   ]
  },
  {
   "cell_type": "code",
   "execution_count": null,
   "metadata": {},
   "outputs": [],
   "source": [
    "age=int(input(\"t'as quelle age ? \"))\n",
    "while age > 18:\n",
    "    print(\"t'es plus mineur !\")\n",
    "    age=int(input(\"entre un age pour une personne encore mineure : \"))\n",
    "print(\"Bonjour marmaille\")"
   ]
  },
  {
   "cell_type": "markdown",
   "metadata": {},
   "source": [
    "### *Exercice 2.1"
   ]
  },
  {
   "cell_type": "markdown",
   "metadata": {},
   "source": [
    "La boucle while sert à itérer (répéter) un bloc d'instructions tant qu'une condition est vérifiée. La condition est une expression booléenne, c'est-à-dire une expression qui est vraie (True) ou fausse (False).\n",
    "\n",
    "Copiez et exécutez le programme ci-dessous. Indiquez le traitement fait par ce programme. Qu'est ce qui se passe ?"
   ]
  },
  {
   "cell_type": "code",
   "execution_count": null,
   "metadata": {},
   "outputs": [],
   "source": [
    "i=1\n",
    "while i<=10:\n",
    "    print(\"3 *\",i,\"=\",3*i)\n",
    "    i=i+1"
   ]
  },
  {
   "cell_type": "markdown",
   "metadata": {},
   "source": [
    "Indiquez le traitement fait par ce programme. Qu'est ce qui se passe ?"
   ]
  },
  {
   "cell_type": "code",
   "execution_count": null,
   "metadata": {
    "scrolled": false
   },
   "outputs": [],
   "source": [
    "print(rep21)"
   ]
  },
  {
   "cell_type": "markdown",
   "metadata": {},
   "source": [
    "### *Exercice 2.2"
   ]
  },
  {
   "cell_type": "markdown",
   "metadata": {},
   "source": [
    "Ecrivez un programme qui demande deux entiers a et b et qui affiche les nombres i compris entre a et b (inclus) tel que i n'est pas multiple de 3 et i**2 − 4 est multiple de 7."
   ]
  },
  {
   "cell_type": "code",
   "execution_count": null,
   "metadata": {},
   "outputs": [],
   "source": [
    "# Voir un exemple d'exécution de l'exercice\n",
    "test_exo_2_2()"
   ]
  },
  {
   "cell_type": "code",
   "execution_count": null,
   "metadata": {},
   "outputs": [],
   "source": [
    "# Voir le code source de l'exercice 2.2\n",
    "test_exo_2_2??"
   ]
  },
  {
   "cell_type": "markdown",
   "metadata": {},
   "source": [
    "### *Exercice 2.3"
   ]
  },
  {
   "cell_type": "markdown",
   "metadata": {},
   "source": [
    "Ecrivez un programme qui demande la saisie d'un nombre entier jusqu'à ce que le nombre saisi soit compris entre 1 et 4 (inclus)."
   ]
  },
  {
   "cell_type": "code",
   "execution_count": null,
   "metadata": {},
   "outputs": [],
   "source": [
    "# Voir une exécution de l'exercice\n",
    "test_exo_2_3()"
   ]
  },
  {
   "cell_type": "code",
   "execution_count": null,
   "metadata": {},
   "outputs": [],
   "source": [
    "# Voir le code source de l'exercice 2.3\n",
    "test_exo_2_3??"
   ]
  },
  {
   "cell_type": "markdown",
   "metadata": {},
   "source": [
    "### *Exercice 2.4"
   ]
  },
  {
   "cell_type": "markdown",
   "metadata": {},
   "source": [
    "Ecrivez un programme qui demande en boucle à l'utilisateur d'entrer des entiers et affiche chaque entier avec son numéro d'ordre de saisie. \n",
    "Le programme doit s'arrêter en affichant Merci lorsque l'utilisateur a rentrée 15 entiers ou bien s'il a saisi la valeur 0."
   ]
  },
  {
   "cell_type": "code",
   "execution_count": null,
   "metadata": {},
   "outputs": [],
   "source": [
    "#Voir une exécution de l'exercice 2.4\n",
    "test_exo_2_4()"
   ]
  },
  {
   "cell_type": "code",
   "execution_count": null,
   "metadata": {},
   "outputs": [],
   "source": [
    "# Voir le code source de l'exercice 2.4\n",
    "test_exo_2_4??"
   ]
  },
  {
   "cell_type": "markdown",
   "metadata": {},
   "source": [
    "### *Exercice 2.5"
   ]
  },
  {
   "cell_type": "markdown",
   "metadata": {},
   "source": [
    "Ecrivez un programme qui demande deux entiers a et b et qui calcule et affiche la somme des carrés des entiers impairs compris entre a et b (a et b inclus).\n",
    "\n",
    "Par exemple, l'exécution du programme en donnant les valeurs 12 et 256 à a et b doit produire les affichages suivants :\n",
    "<pre>Donner la valeur de a : 12\n",
    "Donner la valeur de b : 256\n",
    "La somme des carr\u0013es des impairs compris entre 12 et 256 vaut : 2795874</pre>"
   ]
  },
  {
   "cell_type": "code",
   "execution_count": null,
   "metadata": {},
   "outputs": [],
   "source": [
    "#Voir une exécution de l'exercice\n",
    "test_exo_2_5()"
   ]
  },
  {
   "cell_type": "code",
   "execution_count": null,
   "metadata": {},
   "outputs": [],
   "source": [
    "# Voir le code source de l'exercice\n",
    "test_exo_2_5??"
   ]
  },
  {
   "cell_type": "markdown",
   "metadata": {},
   "source": [
    "### Exercice 2.6"
   ]
  },
  {
   "cell_type": "markdown",
   "metadata": {},
   "source": [
    "Ecrivez un programme qui demande à un joueur de trouver un nombre qui a été choisit au hasard entre 1 et 100 par la machine.\n",
    "Le programme doit ensuite demander en boucle au joueur de proposer un nombre et indiquer après chaque proposition si le nombre proposé est trop petit ou trop grand.\n",
    "Le programme s'arrête lorsque le joueur a trouvé le nombre et indique alors combien de coups ont été nécessaires.\n",
    "Pour choisir un nombre au hasard entre 1 et 100 vous utiliserez l'appel à la fonction randint(1,100) qui retourne un entier compris entre 1 et 100. Cette fonction nécessite d'importer le module random donc d'ajouter l'instruction suivante au début de votre programme : from random import *\n",
    "<pre>Exemple d'ex\u0013ecution :\n",
    "Proposer un nombre entre 1 et 100 : 50\n",
    "Trop petit\n",
    "Proposer un nombre entre 1 et 100 : 75\n",
    "Trop grand\n",
    "Proposer un nombre entre 1 et 100 : 62\n",
    "Gagn\u0013e en 3 coups</pre>"
   ]
  },
  {
   "cell_type": "code",
   "execution_count": null,
   "metadata": {},
   "outputs": [],
   "source": [
    "from random import * \n",
    "# help (\"random\")\n",
    "randint (3,56)"
   ]
  },
  {
   "cell_type": "code",
   "execution_count": null,
   "metadata": {},
   "outputs": [],
   "source": [
    "#Voir une exécution de l'exercice\n",
    "test_exo_2_6()"
   ]
  },
  {
   "cell_type": "code",
   "execution_count": null,
   "metadata": {},
   "outputs": [],
   "source": [
    "# Voir le code source de l'exercice\n",
    "test_exo_2_6??"
   ]
  },
  {
   "cell_type": "markdown",
   "metadata": {},
   "source": [
    "### Exercice 2.7"
   ]
  },
  {
   "cell_type": "markdown",
   "metadata": {},
   "source": [
    "Ecrivez un programme qui demande deux entiers a et n et qui affiche les n premiers termes de la suite définie par :\n",
    "<pre>u0 = a\n",
    "ui = 1/2 × ui_1, si ui_1 est pair\n",
    "ui = 3 × ui_1 + 1, si ui_1 est impair</pre>"
   ]
  },
  {
   "cell_type": "code",
   "execution_count": null,
   "metadata": {},
   "outputs": [],
   "source": [
    "#Voir une exécution de l'exercice\n",
    "test_exo_2_7()"
   ]
  },
  {
   "cell_type": "code",
   "execution_count": null,
   "metadata": {},
   "outputs": [],
   "source": [
    "# Voir le code source de l'exercice\n",
    "test_exo_2_7??"
   ]
  },
  {
   "cell_type": "markdown",
   "metadata": {},
   "source": [
    "# Utilisation de la boucle for"
   ]
  },
  {
   "cell_type": "markdown",
   "metadata": {},
   "source": [
    "Lorsque l'on doit traiter des données qui sont organisées en séquence comme les chaînes de caractères, le parcours de chaque élément de la séquence s'effectue par l'instruction d'itération à bornes définies for. L'exemple ci-dessous affiche les lettres une par une de la chaîne de caractères bonjour.\n",
    "<pre>for lettre in \" bonjour \":\n",
    "     print ( lettre )</pre>"
   ]
  },
  {
   "cell_type": "code",
   "execution_count": null,
   "metadata": {},
   "outputs": [],
   "source": [
    "# autre façon d'écrire l'exercice 2.1 de ce TD\n",
    "for i in range (1,11):\n",
    "    print(\"3 *\",i,\"=\",3*i)"
   ]
  },
  {
   "cell_type": "markdown",
   "metadata": {},
   "source": [
    "### *Exercice 2.8"
   ]
  },
  {
   "cell_type": "markdown",
   "metadata": {},
   "source": [
    "Ecrivez un programme qui demande la saisie d'une phrase (une chaîne de caractères) et qui affiche combien de voyelles contient la phrase saisie. On comptera le nombre de voyelles minuscules et majuscules non accentuées.\n",
    "Indices : utilisez l'opérateur in qui permet de tester si un caractère appartient à une chaîne pour tester si une lettre est une voyelle.\n",
    "<pre>Exemple d'exécution :\n",
    "Donner une phrase : Combien cette PHRASE contient-t-elle de VOYELLES ?\n",
    "La phrase : Combien cette PHRASE contient-t-elle de VOYELLES ?\n",
    "contient : 17 voyelles.<pre>"
   ]
  },
  {
   "cell_type": "code",
   "execution_count": 3,
   "metadata": {},
   "outputs": [
    {
     "name": "stdout",
     "output_type": "stream",
     "text": [
      "La phrase :  au oio tgg\n",
      " contient :  7  voyelles .\n"
     ]
    }
   ],
   "source": [
    "#Voir une exécution de l'exercice\n",
    "test_exo_2_8()"
   ]
  },
  {
   "cell_type": "code",
   "execution_count": 5,
   "metadata": {},
   "outputs": [
    {
     "data": {
      "text/plain": [
       "\u001b[0;31mSignature:\u001b[0m \u001b[0mtest_exo_2_8\u001b[0m\u001b[0;34m(\u001b[0m\u001b[0;34m)\u001b[0m\u001b[0;34m\u001b[0m\u001b[0;34m\u001b[0m\u001b[0m\n",
       "\u001b[0;31mDocstring:\u001b[0m <no docstring>\n",
       "\u001b[0;31mSource:\u001b[0m   \n",
       "\u001b[0;32mdef\u001b[0m \u001b[0mtest_exo_2_8\u001b[0m\u001b[0;34m(\u001b[0m\u001b[0;34m)\u001b[0m\u001b[0;34m:\u001b[0m\u001b[0;34m\u001b[0m\n",
       "\u001b[0;34m\u001b[0m    \u001b[0;31m# Programme qui compte le nombre de voyelles (minuscule ou majuscule non accentuée)\u001b[0m\u001b[0;34m\u001b[0m\n",
       "\u001b[0;34m\u001b[0m    \u001b[0;31m# d'une chaîne de caractères saisie.\u001b[0m\u001b[0;34m\u001b[0m\n",
       "\u001b[0;34m\u001b[0m    \u001b[0mphrase\u001b[0m \u001b[0;34m=\u001b[0m \u001b[0minput\u001b[0m \u001b[0;34m(\u001b[0m\u001b[0;34m\" Donner une phrase : ? \"\u001b[0m\u001b[0;34m)\u001b[0m\u001b[0;34m\u001b[0m\n",
       "\u001b[0;34m\u001b[0m    \u001b[0;31m# On compte le nombre de voyelles dans la variable nbvoy\u001b[0m\u001b[0;34m\u001b[0m\n",
       "\u001b[0;34m\u001b[0m    \u001b[0mnbvoy\u001b[0m \u001b[0;34m=\u001b[0m \u001b[0;36m0\u001b[0m\u001b[0;34m\u001b[0m\n",
       "\u001b[0;34m\u001b[0m    \u001b[0;31m# On parcourt la séquence de caractères phrase en comptant\u001b[0m\u001b[0;34m\u001b[0m\n",
       "\u001b[0;34m\u001b[0m    \u001b[0;31m# et on incrémente nbvoy pour chaque voyelle rencontrée.\u001b[0m\u001b[0;34m\u001b[0m\n",
       "\u001b[0;34m\u001b[0m    \u001b[0;31m# Un caractère est une voyelle s'il apparaît dans la chaîne \"aeiouyAEIOUY\"\u001b[0m\u001b[0;34m\u001b[0m\n",
       "\u001b[0;34m\u001b[0m    \u001b[0;32mfor\u001b[0m \u001b[0mc\u001b[0m \u001b[0;32min\u001b[0m \u001b[0mphrase\u001b[0m \u001b[0;34m:\u001b[0m\u001b[0;34m\u001b[0m\n",
       "\u001b[0;34m\u001b[0m        \u001b[0;32mif\u001b[0m \u001b[0mc\u001b[0m \u001b[0;32min\u001b[0m \u001b[0;34m\" aeiouyAEIOUY \"\u001b[0m\u001b[0;34m:\u001b[0m\u001b[0;34m\u001b[0m\n",
       "\u001b[0;34m\u001b[0m            \u001b[0mnbvoy\u001b[0m \u001b[0;34m=\u001b[0m \u001b[0mnbvoy\u001b[0m \u001b[0;34m+\u001b[0m \u001b[0;36m1\u001b[0m\u001b[0;34m\u001b[0m\n",
       "\u001b[0;34m\u001b[0m    \u001b[0mprint\u001b[0m \u001b[0;34m(\u001b[0m\u001b[0;34m\"La phrase : \"\u001b[0m\u001b[0;34m,\u001b[0m \u001b[0mphrase\u001b[0m \u001b[0;34m)\u001b[0m\u001b[0;34m\u001b[0m\n",
       "\u001b[0;34m\u001b[0m    \u001b[0mprint\u001b[0m \u001b[0;34m(\u001b[0m\u001b[0;34m\" contient : \"\u001b[0m\u001b[0;34m,\u001b[0m \u001b[0mnbvoy\u001b[0m \u001b[0;34m,\u001b[0m \u001b[0;34m\" voyelles .\"\u001b[0m\u001b[0;34m)\u001b[0m\u001b[0;34m\u001b[0m\u001b[0;34m\u001b[0m\u001b[0m\n",
       "\u001b[0;31mFile:\u001b[0m      ~/Documents/GitHub/TP/TD2/answers_td2.py\n",
       "\u001b[0;31mType:\u001b[0m      function\n"
      ]
     },
     "metadata": {},
     "output_type": "display_data"
    }
   ],
   "source": [
    "# Voir le code source de l'exercice\n",
    "test_exo_2_8??"
   ]
  },
  {
   "cell_type": "markdown",
   "metadata": {},
   "source": [
    "### *Exercice 2.9"
   ]
  },
  {
   "cell_type": "markdown",
   "metadata": {},
   "source": [
    "Ecrivez un programme qui demande la saisie d'une chaîne de caractères et qui :\n",
    "- vérifie que cette la chaîne entrée code un brin d'ADN, c'est à dire qu'elle n'est composée que des caractères A,\n",
    "C, G et T\n",
    "- si c'est le cas, le programme construit et affiche la chaîne qui code le brin complémentaire, c'est à dire la chaîne où chaque A est remplacée par un T (et vice-versa) et chaque C par un G (et vice-versa)."
   ]
  },
  {
   "cell_type": "code",
   "execution_count": null,
   "metadata": {},
   "outputs": [],
   "source": [
    "#Voir une exécution de l'exercice\n",
    "test_exo_2_9()"
   ]
  },
  {
   "cell_type": "code",
   "execution_count": null,
   "metadata": {},
   "outputs": [],
   "source": [
    "# Voir le code source de l'exercice\n",
    "test_exo_2_9??"
   ]
  },
  {
   "cell_type": "markdown",
   "metadata": {},
   "source": [
    "### Exercice 2.10"
   ]
  },
  {
   "cell_type": "markdown",
   "metadata": {},
   "source": [
    "Ecrivez un programme qui demande la saisie d'une phrase (une chaîne de caractères) et qui affiche cette phrase en remplaçant toutes les lettres qui ne sont pas des voyelles par le caractère *. Les voyelles doivent donc être affichées telles quelles ainsi que tous les autres caractères (ponctuation, etc ...)\n",
    "\n",
    "Indices : pensez à utiliser les opérateurs de comparaisons sur les caractères. Une lettre est un caractére compris entre \"A\" et \"Z\" ou entre \"a\" et \"z\". Pour que la fonction print ne passe pas à la ligne il faut utiliser le paramètre end=\"\"\n",
    "<pre>\n",
    "Exemple d'exécution :\n",
    "Donner une phrase : Voici des MAJUSCULES, des chiffres (par exemple 1 23 4 8.7) et d'autres caracteres!\n",
    "*oi*i *e* *A*U**U*E*, *e* **i***e* (*a* e*e***e 1 23 4 8.7) e* *'au**e* *a*a**e*e*!</pre>"
   ]
  },
  {
   "cell_type": "code",
   "execution_count": null,
   "metadata": {},
   "outputs": [],
   "source": [
    "#Voir une exécution de l'exercice\n",
    "test_exo_2_10()"
   ]
  },
  {
   "cell_type": "code",
   "execution_count": null,
   "metadata": {},
   "outputs": [],
   "source": [
    "# Voir le code source de l'exercice\n",
    "test_exo_2_10??"
   ]
  }
 ],
 "metadata": {
  "kernelspec": {
   "display_name": "Python 3",
   "language": "python",
   "name": "python3"
  },
  "language_info": {
   "codemirror_mode": {
    "name": "ipython",
    "version": 3
   },
   "file_extension": ".py",
   "mimetype": "text/x-python",
   "name": "python",
   "nbconvert_exporter": "python",
   "pygments_lexer": "ipython3",
   "version": "3.6.8"
  }
 },
 "nbformat": 4,
 "nbformat_minor": 2
}
