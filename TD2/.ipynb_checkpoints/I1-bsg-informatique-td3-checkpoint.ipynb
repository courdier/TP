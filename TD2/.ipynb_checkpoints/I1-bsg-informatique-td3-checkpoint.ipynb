{
 "cells": [
  {
   "cell_type": "markdown",
   "metadata": {},
   "source": [
    "TD2 BSG - Structures de controle itératives"
   ]
  },
  {
   "cell_type": "markdown",
   "metadata": {},
   "source": [
    "[Qu'est-ce que notebook ?](http://nbviewer.jupyter.org/github/ipython/ipython/blob/3.x/examples/Notebook/Index.ipynb)"
   ]
  },
  {
   "cell_type": "code",
   "execution_count": 63,
   "metadata": {},
   "outputs": [],
   "source": [
    "def test_exo_3_2():\n",
    "    print (\"1. indoccur : occurence d'une valeur dans une liste \")\n",
    "    print (\"2. que0et1 : tous les elements ont la valeur 0 ou 1\")\n",
    "    print (\"3. Quitter \")\n",
    "    choix =0\n",
    "    while not ( choix >= 1 and choix <=3):\n",
    "        choix =int( input (\" Votre choix : ? \"))\n",
    "        if not ( choix >= 1 and choix <=3):\n",
    "            print (\" Erreur : choix invalide , choisir une valeur [1..3] \")\n",
    "    if choix == 1:\n",
    "        print (\" appel de indoccur ([3 ,2 ,1 ,4 ,1 ,1 ,5 ,8 ,3 ,1] , 1)\")\n",
    "    elif choix == 2:\n",
    "        print (\" appel de que0et1 ([0 ,0 ,0 ,1 ,0 ,0 ,1])\")\n",
    "\n",
    "# exo 3.3 -------------\n",
    "def indoccur_alt (l,v):\n",
    "    res = []\n",
    "    for i,a in enumerate (l):\n",
    "    # enumerate(l): Retourne une sequence dont chaque element est \n",
    "    # une paire (indice, element) de la liste l\n",
    "        if a == v:\n",
    "            res. append (i)\n",
    "    return res\n",
    "\n",
    "# exo 3.4 -------------\n",
    "# On suppose le résultat True par défaut et on le rend False si et \n",
    "# seulement si en examinant successivement tous les éléments de la \n",
    "# liste on en rencontre (au moins) un différent de 0 et différent de 1.\n",
    "# Les indices n'ont ici pas d'importance, on peut donc appliquer la \n",
    "# boucle for directement sur la collection de valeurs formée par la liste.\n",
    "def que0et1 (l):\n",
    "    res= True\n",
    "    for n in l:\n",
    "        if n != 1 and n != 0 :\n",
    "            res= False\n",
    "    return res\n",
    "\n",
    "# exo 3.5 -------------\n",
    "def elem_ind_pair (l):\n",
    "    # On ajoute dans la liste résultat, au départ vide, tous les éléments \n",
    "    # d'indice pair de la liste donnée. Il suffit pour cela de faire\n",
    "    # un parcours de la liste à partir de l'indice 0 avec un pas de 2.\n",
    "    res =[]\n",
    "    for i in range (0, len(l) ,2):\n",
    "        res += [l[i]]\n",
    "    return res\n"
   ]
  },
  {
   "cell_type": "markdown",
   "metadata": {},
   "source": [
    "# Utilisation de la boucle while"
   ]
  },
  {
   "cell_type": "markdown",
   "metadata": {},
   "source": [
    "La boucle while sert à itérer (répéter) un bloc d'instructions tant qu'une condition est vérifiée. La condition est une expression booléenne, c'est-à-dire une expression qui est vraie (True) ou fausse (False)."
   ]
  },
  {
   "cell_type": "markdown",
   "metadata": {},
   "source": [
    "### Exercice 3.1"
   ]
  },
  {
   "cell_type": "markdown",
   "metadata": {},
   "source": [
    "1) Créez la liste couleur ne contenant aucun élément. Ensuite ajouter les chaînes de caractères suivantes comme\n",
    "éléments à cette liste : rouge, vert, bleue."
   ]
  },
  {
   "cell_type": "code",
   "execution_count": null,
   "metadata": {},
   "outputs": [],
   "source": [
    "couleurs=[]\n",
    "couleurs=couleurs + ['rouge', 'vert', 'bleue']"
   ]
  },
  {
   "cell_type": "markdown",
   "metadata": {},
   "source": [
    "2) Ecrire une expression conditionnelle qui affiche 'red' si rouge est un élément qui appartient à la liste couleur."
   ]
  },
  {
   "cell_type": "code",
   "execution_count": null,
   "metadata": {},
   "outputs": [],
   "source": [
    "if 'rouge' in couleurs:\n",
    "    print (\"red\")"
   ]
  },
  {
   "cell_type": "markdown",
   "metadata": {},
   "source": [
    "3) Créez la liste number qui contient les nombres de 0 à 19. Astuce : utilisez la fonction list() et range()."
   ]
  },
  {
   "cell_type": "code",
   "execution_count": null,
   "metadata": {},
   "outputs": [],
   "source": [
    "number = list(range(0,20))\n",
    "print (number)"
   ]
  },
  {
   "cell_type": "markdown",
   "metadata": {},
   "source": [
    "En utilisant l'opérateur d'extraction de sous-liste [:] créer à partir de la liste number une liste l1 contenant les nombres\n",
    "de 4 à 8 et une liste l1 contenant tous les nombres de 13 à 19."
   ]
  },
  {
   "cell_type": "code",
   "execution_count": null,
   "metadata": {},
   "outputs": [],
   "source": [
    "l1 = number[4:9]\n",
    "l2 = number[13:]\n",
    "print (\"l1=\", l1)\n",
    "print (\"l2=\", l2)"
   ]
  },
  {
   "cell_type": "markdown",
   "metadata": {},
   "source": [
    "4) Créez une liste unzero qui contient 100 fois le nombre 1 suivi d'un 0 et de 100 fois le nombre 1."
   ]
  },
  {
   "cell_type": "code",
   "execution_count": null,
   "metadata": {},
   "outputs": [],
   "source": [
    "unzero = [1] *100 + [0] + [1] * 100\n",
    "print(unzero)"
   ]
  },
  {
   "cell_type": "markdown",
   "metadata": {},
   "source": [
    "4) Créez une liste unzero qui contient 100 fois le nombre 1 suivi d'un 0 et de 100 fois le nombre 1. Afficher la longueur de la liste ainsi créée. Quel est l'indice de l'élément 0 ?"
   ]
  },
  {
   "cell_type": "markdown",
   "metadata": {},
   "source": [
    "Afficher la longueur de la liste ainsi créée. "
   ]
  },
  {
   "cell_type": "code",
   "execution_count": null,
   "metadata": {},
   "outputs": [],
   "source": [
    "print (len( unzero ))"
   ]
  },
  {
   "cell_type": "code",
   "execution_count": null,
   "metadata": {},
   "outputs": [],
   "source": [
    "print (unzero.index(0))"
   ]
  },
  {
   "cell_type": "markdown",
   "metadata": {},
   "source": [
    "5) Définissez les listes l3 = [1, 2, 3] et l4 = [20, 30, 40, 50, 60, 70].\n",
    "A partir de l3 et l4 et en utilisant les opérateurs de concaténation, de répétition et d'extraction créez la liste [2, 20,\n",
    "30, 40, 50, 3, 3, 3, 3, 3]"
   ]
  },
  {
   "cell_type": "code",
   "execution_count": null,
   "metadata": {},
   "outputs": [],
   "source": [
    "l3 = [1, 2, 3]\n",
    "l4 = [20, 30, 40, 50, 60, 70]\n",
    "print ([l3 [1]])\n",
    "print (l4 [:4])\n",
    "print ([l3 [2]]*5)\n",
    "[l3 [1]] + l4 [:4] + [l3 [2]]*5"
   ]
  },
  {
   "cell_type": "markdown",
   "metadata": {},
   "source": [
    "### Exercice 3.2"
   ]
  },
  {
   "cell_type": "markdown",
   "metadata": {},
   "source": [
    "En premier, vous allez écrire un programme qui propose en menu l'appel des fonctions que vous allez développer par la suite. Ecrivez le programme qui affiche ce menu, qui saisi le choix de l'utilisateur, qui vérifie la validité sinon il recommence jusqu'à recevoir un choix valide puis qui exécute la fonction choisie dans le menu. Lorsque l'utilisateur rentre un mauvais choix, le message d'erreur \"Erreur : choix invalide, choisir une valeur [1..3]\" s'affiche avant de re-inviter l'utilisateur à saisir un nouveau choix.\n",
    "<pre>\n",
    "1. indoccur : occurence d'une valeur dans une liste\n",
    "2. que0et1 : tous les elements ont la m^eme valeur : soit 0, soit 1\n",
    "3. Quitter\n",
    "Votre choix :\n",
    "</pre>"
   ]
  },
  {
   "cell_type": "code",
   "execution_count": 54,
   "metadata": {},
   "outputs": [
    {
     "name": "stdout",
     "output_type": "stream",
     "text": [
      "1. indoccur : occurence d'une valeur dans une liste \n",
      "2. que0et1 : tous les elements ont la valeur 0 ou 1\n",
      "3. Quitter \n",
      " Votre choix : ? 4\n",
      " Erreur : choix invalide , choisir une valeur [1..3] \n",
      " Votre choix : ? 56888\n",
      " Erreur : choix invalide , choisir une valeur [1..3] \n",
      " Votre choix : ? 2\n",
      " appel de que0et1 ([0 ,0 ,0 ,1 ,0 ,0 ,1])\n"
     ]
    }
   ],
   "source": [
    "# Voir une execuition de ce programme\n",
    "test_exo_3_2()"
   ]
  },
  {
   "cell_type": "code",
   "execution_count": 56,
   "metadata": {},
   "outputs": [],
   "source": [
    "# Voir le code source de l'exercice\n",
    "test_exo_3_2??"
   ]
  },
  {
   "cell_type": "markdown",
   "metadata": {},
   "source": [
    "### Exercice 3.3"
   ]
  },
  {
   "cell_type": "markdown",
   "metadata": {},
   "source": [
    "Ecrivez une fonction indoccur qui prend en paramètres une liste l\n",
    "et une valeur v et retourne comme résultat la liste\n",
    "des indices des occurrences de la valeur v dans la liste l.\n",
    "Par exemple l'appel : indoccur([3,2,1,4,1,1,5,8,3,1], 1) doit retourner la liste [2,4,5,9] car 2,4,5,et 9 sont\n",
    "les indices où 1 apparaît dans la liste donnée."
   ]
  },
  {
   "cell_type": "code",
   "execution_count": 62,
   "metadata": {},
   "outputs": [
    {
     "data": {
      "text/plain": [
       "[3, 4]"
      ]
     },
     "execution_count": 62,
     "metadata": {},
     "output_type": "execute_result"
    }
   ],
   "source": [
    "# Voir une exécution de l'exercice\n",
    "l=[3, 4, 7, 8, 8, 9, 10]\n",
    "v=8\n",
    "indoccur_alt (l,v)"
   ]
  },
  {
   "cell_type": "code",
   "execution_count": 60,
   "metadata": {},
   "outputs": [],
   "source": [
    "# Voir le code source de l'exercice\n",
    "indoccur_alt??"
   ]
  },
  {
   "cell_type": "markdown",
   "metadata": {},
   "source": [
    "### Exercice 3.4"
   ]
  },
  {
   "cell_type": "markdown",
   "metadata": {},
   "source": [
    "Dénissez en Python une fonction que0et1 qui prend en paramètre une liste et qui retourne le booléen True si et seulement si les éléments de la liste donnée ne sont que des 0 et des 1.\n",
    "Par exemple l'appel : que0et1([0,0,0,1,0,0,1]) doit retourner True."
   ]
  },
  {
   "cell_type": "code",
   "execution_count": 64,
   "metadata": {},
   "outputs": [
    {
     "data": {
      "text/plain": [
       "True"
      ]
     },
     "execution_count": 64,
     "metadata": {},
     "output_type": "execute_result"
    }
   ],
   "source": [
    "# Exemple d'appel de la fonction que0et1\n",
    "l= [0,0,0,1,0,0,1]\n",
    "que0et1(l)"
   ]
  },
  {
   "cell_type": "code",
   "execution_count": null,
   "metadata": {},
   "outputs": [],
   "source": [
    "# Voir le code source de l'exercice\n",
    "que0et1??"
   ]
  },
  {
   "cell_type": "markdown",
   "metadata": {},
   "source": [
    "### Exercice 3.5"
   ]
  },
  {
   "cell_type": "markdown",
   "metadata": {},
   "source": [
    "Dénissez en Python une fonction elem_ind_pair qui prend en paramètre une liste et qui retourne comme résultat une nouvelle liste (donc on ne modifie pas celle donnée en paramètre !) formée avec les éléments d'indice pair de la\n",
    "liste donnée.\n",
    "Par exemple l'appel : elem_ind_pair([3,7,9,1,2,0,4]) doit retourner la liste [3,9,2,4]"
   ]
  },
  {
   "cell_type": "markdown",
   "metadata": {},
   "source": [
    "-> Voir une exécution de l'exercice "
   ]
  },
  {
   "cell_type": "code",
   "execution_count": null,
   "metadata": {},
   "outputs": [],
   "source": [
    "elem_ind_pair(\"3536898799\")"
   ]
  },
  {
   "cell_type": "markdown",
   "metadata": {},
   "source": [
    "-> Voir le code source de l'exercice"
   ]
  },
  {
   "cell_type": "code",
   "execution_count": null,
   "metadata": {},
   "outputs": [],
   "source": [
    "elem_ind_pair??"
   ]
  }
 ],
 "metadata": {
  "kernelspec": {
   "display_name": "Python 3",
   "language": "python",
   "name": "python3"
  },
  "language_info": {
   "codemirror_mode": {
    "name": "ipython",
    "version": 3
   },
   "file_extension": ".py",
   "mimetype": "text/x-python",
   "name": "python",
   "nbconvert_exporter": "python",
   "pygments_lexer": "ipython3",
   "version": "3.6.5"
  }
 },
 "nbformat": 4,
 "nbformat_minor": 2
}
