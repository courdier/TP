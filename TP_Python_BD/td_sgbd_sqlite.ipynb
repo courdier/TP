{
 "cells": [
  {
   "cell_type": "markdown",
   "metadata": {
    "slideshow": {
     "slide_type": "slide"
    }
   },
   "source": [
    "# TD BD Python - Base de Données\n",
    "\n",
    "Exercice de manipulation de base de données en Python avec la librairie SQLite\n",
    "SQLite a été conçu pour être intégré dans le programme même.\n",
    "Pour des projets plus ambitieux le choix de MySQL est plus judicieux."
   ]
  },
  {
   "cell_type": "markdown",
   "metadata": {
    "slideshow": {
     "slide_type": "skip"
    }
   },
   "source": [
    "[Qu'est-ce que notebook ?](http://nbviewer.jupyter.org/github/ipython/ipython/blob/3.x/examples/Notebook/Index.ipynb)"
   ]
  },
  {
   "cell_type": "markdown",
   "metadata": {
    "slideshow": {
     "slide_type": "slide"
    }
   },
   "source": [
    "### Le TD consiste à :\n",
    "- ETAPE 1 : Utiliser une Librairie de manipulation de base de données en python\n",
    "- ETAPE 2 : Création d'une base de données \n",
    "- Etape 3 : Créer une table dans la base de données\n",
    "- ETAPE 4 : Insérer des données dans une base de données\n",
    "- ETAPE 5 : Accéder aux données d'une BD\n",
    "- ETAPE 6 : Modifier les valeurs d'un tuple dans la BD\n",
    "- ETAPE 7 : Gérer la validation et retour en arrière sur les transactions faites dans la BD\n",
    "- ETAPE 8 : Fermer d'une base de données"
   ]
  },
  {
   "cell_type": "markdown",
   "metadata": {
    "slideshow": {
     "slide_type": "slide"
    }
   },
   "source": [
    "## ETAPE 1 : Utiliser une Librairie de manipulation de base de donnée en python\n",
    "\n",
    "Import de la librairie Python de manipulation de base de données sqlite et création du répertoire de stockage de la base de données par la fonctin *creerDirData()*"
   ]
  },
  {
   "cell_type": "code",
   "execution_count": 1,
   "metadata": {
    "slideshow": {
     "slide_type": "fragment"
    }
   },
   "outputs": [
    {
     "name": "stdout",
     "output_type": "stream",
     "text": [
      "-> Repertoire \"data'créé ou exitant\n"
     ]
    }
   ],
   "source": [
    "import sqlite3 # cette librairie permettra toute les opréation relative à la manipulation de BD sqlite\n",
    "import os # cette librairie sera utiliser pour gerer un répertoire sur votre disque pour stocker votre base de données\n",
    "\n",
    "DirBD = \"data\" # Nom du répertoire de stockage \n",
    "\n",
    "# fonction de création de répertoire de données\n",
    "def creerDirData():\n",
    "    try: # si il y a des erreurs dans les instructions dans ce bloc, le bloc \"except\" sera invoqué\n",
    "        os.makedirs(DirBD, exist_ok=True)\n",
    "        print ('-> Repertoire \"'+ DirBD + \"'créé ou exitant\")\n",
    "    except Exception as err:\n",
    "        print(err)  # affichage de l'erreur\n",
    "        exit()      # sortie du programme\n",
    "\n",
    "creerDirData()"
   ]
  },
  {
   "cell_type": "markdown",
   "metadata": {
    "slideshow": {
     "slide_type": "subslide"
    }
   },
   "source": [
    "### Vérification de votre répertoire"
   ]
  },
  {
   "cell_type": "code",
   "execution_count": 2,
   "metadata": {
    "slideshow": {
     "slide_type": "fragment"
    }
   },
   "outputs": [
    {
     "name": "stdout",
     "output_type": "stream",
     "text": [
      "['.DS_Store', '__pycache__', 'td_sgbd_sqlite.py', 'td_sgbd_sqlite.ipynb', '.ipynb_checkpoints', 'data']\n",
      "Top ! c'est ok, le répertoire data est bien dans la liste\n"
     ]
    }
   ],
   "source": [
    "print(os.listdir())\n",
    "listeFic= os.listdir()\n",
    "print (\"Top ! c'est ok, le répertoire \" + DirBD + \" est bien dans la liste\") if DirBD in listeFic else print(\"Pas top... vérifier votre code !\")     "
   ]
  },
  {
   "cell_type": "markdown",
   "metadata": {
    "slideshow": {
     "slide_type": "slide"
    }
   },
   "source": [
    "# ETAPE 2 : Création d'une base de données \n",
    "Création d'une base de données avec SQLite\n",
    "- saisie par l'utilisateur du nom de la base de données à creer\n",
    "- appel à a fonction *creerDirData()* par précaution pour la création du répertoire \n",
    "- création de la base de donnée par la fonction ** *connect(\"NomDeLaBDaCreer\")* ** de la librairie sqlite\n",
    "### retour :\n",
    "- conn : variable donnant accès à ma Base de Donnée nouvellement créée"
   ]
  },
  {
   "cell_type": "code",
   "execution_count": 3,
   "metadata": {
    "slideshow": {
     "slide_type": "fragment"
    }
   },
   "outputs": [
    {
     "name": "stdout",
     "output_type": "stream",
     "text": [
      "-> Repertoire \"data'créé ou exitant\n",
      "-> Base de donnée \"data/bdcours.bd'créé ou existante\n"
     ]
    }
   ],
   "source": [
    "def creeBD():  \n",
    "    try: # si il y a des erreurs dans les instructions dans ce bloc, le bloc \"except\" sera invoqué\n",
    "        creerDirData() # creer le répertoire data si il n'exsiste pas\n",
    "        BDname= DirBD + \"/\" + input(\"nom de votre base de données ? \")+\".bd\"\n",
    "        conn = sqlite3.connect(BDname)\n",
    "        print ('-> Base de donnée \"'+ BDname + \"'créé ou existante\")\n",
    "    except Exception as err:\n",
    "        print(err)  # affichage de l'erreur\n",
    "        exit()      # sortie du programme\n",
    "        \n",
    "    # ... suite du programme si tout est OK\n",
    "    return conn # creeBd() retourne une variable donnant accès à ma Base de Donnée nouvellement créée\n",
    "\n",
    "# ouverture ou creation de maBD\n",
    "maBD=creeBD()"
   ]
  },
  {
   "cell_type": "markdown",
   "metadata": {
    "slideshow": {
     "slide_type": "subslide"
    }
   },
   "source": [
    "### Vérification de la création de la BD"
   ]
  },
  {
   "cell_type": "code",
   "execution_count": 4,
   "metadata": {
    "slideshow": {
     "slide_type": "fragment"
    }
   },
   "outputs": [
    {
     "data": {
      "text/plain": [
       "['maBD.bd', 'bdcours.bd']"
      ]
     },
     "execution_count": 4,
     "metadata": {},
     "output_type": "execute_result"
    }
   ],
   "source": [
    "os.listdir(\"./data/\")"
   ]
  },
  {
   "cell_type": "markdown",
   "metadata": {
    "slideshow": {
     "slide_type": "slide"
    }
   },
   "source": [
    "# Etape 3 : Créer une table dans la base de donnée\n",
    "Création de la table VILLE dans votre base de données"
   ]
  },
  {
   "cell_type": "code",
   "execution_count": 5,
   "metadata": {
    "slideshow": {
     "slide_type": "fragment"
    }
   },
   "outputs": [
    {
     "name": "stdout",
     "output_type": "stream",
     "text": [
      "->Table VILLE créé ou existante\n"
     ]
    }
   ],
   "source": [
    "def creerTableVille(conn):\n",
    "    cursor = conn.cursor()\n",
    "    cursor.execute(\"\"\"\n",
    "    CREATE TABLE IF NOT EXISTS VILLE(\n",
    "     id INTEGER PRIMARY KEY AUTOINCREMENT UNIQUE,\n",
    "     name TEXT,\n",
    "     nombre_habitants INTEGER\n",
    "    )\n",
    "    \"\"\")\n",
    "    conn.commit()\n",
    "    print ('->Table VILLE créé ou existante')\n",
    "\n",
    "#creation de la table users dans maBD\n",
    "creerTableVille(maBD)"
   ]
  },
  {
   "cell_type": "markdown",
   "metadata": {
    "slideshow": {
     "slide_type": "subslide"
    }
   },
   "source": [
    "### Lister les Tables de la Base de Donnees : "
   ]
  },
  {
   "cell_type": "code",
   "execution_count": 6,
   "metadata": {
    "slideshow": {
     "slide_type": "fragment"
    }
   },
   "outputs": [
    {
     "name": "stdout",
     "output_type": "stream",
     "text": [
      "Liste des Tables de la Base de Donnees : \n",
      "   [('VILLE',)]\n"
     ]
    }
   ],
   "source": [
    "def listeTable(cursor):\n",
    "    cursor.execute(\"\"\"SELECT name FROM sqlite_master WHERE \n",
    "                    type ='table' AND name NOT LIKE 'sqlite_%';\"\"\")\n",
    "    print(\"Liste des Tables de la Base de Donnees : \")\n",
    "    print('  ',cursor.fetchall())\n",
    "\n",
    "listeTable(maBD.cursor())"
   ]
  },
  {
   "cell_type": "markdown",
   "metadata": {
    "slideshow": {
     "slide_type": "subslide"
    }
   },
   "source": [
    "### Supprimer une table d'une base de données\n",
    "Suppression de la table VILLE dans ma base de données"
   ]
  },
  {
   "cell_type": "code",
   "execution_count": 7,
   "metadata": {
    "slideshow": {
     "slide_type": "fragment"
    }
   },
   "outputs": [
    {
     "name": "stdout",
     "output_type": "stream",
     "text": [
      "->Table VILLE supprimmée\n"
     ]
    }
   ],
   "source": [
    "def supTableVille(conn):\n",
    "    cursor = conn.cursor()\n",
    "    cursor.execute(\"\"\"DROP TABLE VILLE\"\"\")\n",
    "    conn.commit()\n",
    "    print ('->Table VILLE supprimmée')\n",
    "    \n",
    "supTableVille(maBD)"
   ]
  },
  {
   "cell_type": "markdown",
   "metadata": {
    "slideshow": {
     "slide_type": "subslide"
    }
   },
   "source": [
    "### On vérifie la suppression !"
   ]
  },
  {
   "cell_type": "code",
   "execution_count": 8,
   "metadata": {
    "slideshow": {
     "slide_type": "fragment"
    }
   },
   "outputs": [
    {
     "name": "stdout",
     "output_type": "stream",
     "text": [
      "Liste des Tables de la Base de Donnees : \n",
      "   []\n"
     ]
    }
   ],
   "source": [
    "listeTable(maBD.cursor())"
   ]
  },
  {
   "cell_type": "markdown",
   "metadata": {
    "slideshow": {
     "slide_type": "subslide"
    }
   },
   "source": [
    "### Bon fini de jouer...on recréé notre table VILLE maitenant ! "
   ]
  },
  {
   "cell_type": "code",
   "execution_count": 9,
   "metadata": {
    "slideshow": {
     "slide_type": "fragment"
    }
   },
   "outputs": [
    {
     "name": "stdout",
     "output_type": "stream",
     "text": [
      "->Table VILLE créé ou existante\n",
      "Liste des Tables de la Base de Donnees : \n",
      "   [('VILLE',)]\n"
     ]
    }
   ],
   "source": [
    "creerTableVille(maBD)\n",
    "listeTable(maBD.cursor())"
   ]
  },
  {
   "cell_type": "markdown",
   "metadata": {
    "slideshow": {
     "slide_type": "slide"
    }
   },
   "source": [
    "# ETAPE 4 : Insérer des données dans une base de données"
   ]
  },
  {
   "cell_type": "markdown",
   "metadata": {
    "slideshow": {
     "slide_type": "subslide"
    }
   },
   "source": [
    "### Création d'un \"curseur\"\n",
    "Considérez le curseur comme un pointeur vers l’enregistrement actif, similaire à la façon dont un index de tableau pointe vers la valeur à cet emplacement particulier dans le tableau."
   ]
  },
  {
   "cell_type": "code",
   "execution_count": 11,
   "metadata": {
    "slideshow": {
     "slide_type": "fragment"
    }
   },
   "outputs": [],
   "source": [
    "cursor=maBD.cursor()"
   ]
  },
  {
   "cell_type": "markdown",
   "metadata": {
    "slideshow": {
     "slide_type": "subslide"
    }
   },
   "source": [
    "### Insertion d'un tuple dans la table VILLE d ela Base de Données"
   ]
  },
  {
   "cell_type": "code",
   "execution_count": 12,
   "metadata": {
    "slideshow": {
     "slide_type": "fragment"
    }
   },
   "outputs": [
    {
     "data": {
      "text/plain": [
       "<sqlite3.Cursor at 0x7fbf305737a0>"
      ]
     },
     "execution_count": 12,
     "metadata": {},
     "output_type": "execute_result"
    }
   ],
   "source": [
    "cursor.execute(\"\"\"INSERT INTO VILLE(name, nombre_habitants) VALUES(?, ?)\"\"\",\n",
    "               (\"Saint-Denis\", 147931))"
   ]
  },
  {
   "cell_type": "markdown",
   "metadata": {
    "slideshow": {
     "slide_type": "subslide"
    }
   },
   "source": [
    "### Plusieurs insertions en une seule fois avec la fonction ** *executemany()* **"
   ]
  },
  {
   "cell_type": "code",
   "execution_count": 15,
   "metadata": {
    "slideshow": {
     "slide_type": "fragment"
    }
   },
   "outputs": [],
   "source": [
    "def addVillesReunion():\n",
    "    villes = []\n",
    "    villes.append((\"Saint-Pierre\", 84212))\n",
    "    villes.append((\"Saint-Benoit\", 37759))\n",
    "    villes.append((\"Saint-André\", 56268))\n",
    "    cursor.executemany(\"\"\"INSERT INTO VILLE(name, nombre_habitants) VALUES(?, ?)\"\"\",\n",
    "                       villes)\n",
    "addVillesReunion()"
   ]
  },
  {
   "cell_type": "markdown",
   "metadata": {
    "slideshow": {
     "slide_type": "slide"
    }
   },
   "source": [
    "# ETAPE 5 : Accéder aux données d'une BD"
   ]
  },
  {
   "cell_type": "markdown",
   "metadata": {
    "slideshow": {
     "slide_type": "subslide"
    }
   },
   "source": [
    "### Acceder au premier tuple d'une table ** *cursor.fetchone()* **"
   ]
  },
  {
   "cell_type": "code",
   "execution_count": 16,
   "metadata": {
    "slideshow": {
     "slide_type": "fragment"
    }
   },
   "outputs": [
    {
     "name": "stdout",
     "output_type": "stream",
     "text": [
      "Le premier tuple de la table VILLE est : \n",
      "   ('Saint-Denis', 147931)\n"
     ]
    }
   ],
   "source": [
    "cursor.execute(\"\"\"SELECT name, nombre_habitants FROM VILLE\"\"\")\n",
    "ville1 = cursor.fetchone()\n",
    "print(\"Le premier tuple de la table VILLE est : \")\n",
    "print('  ',ville1)"
   ]
  },
  {
   "cell_type": "markdown",
   "metadata": {
    "slideshow": {
     "slide_type": "subslide"
    }
   },
   "source": [
    "### Accéder à la liste de tous les tuples d'une table d'une BD ** *cursor.fetchall()* **"
   ]
  },
  {
   "cell_type": "code",
   "execution_count": 17,
   "metadata": {
    "slideshow": {
     "slide_type": "fragment"
    }
   },
   "outputs": [
    {
     "name": "stdout",
     "output_type": "stream",
     "text": [
      "La liste de tous les tuples de la table VILLE est : \n",
      "   [('Saint-Denis', 147931), ('Saint-Pierre', 84212), ('Saint-Benoit', 37759), ('Saint-André', 56268)]\n"
     ]
    }
   ],
   "source": [
    "def afficheVille(cursor):\n",
    "    try:\n",
    "        cursor.execute(\"\"\"SELECT name, nombre_habitants FROM VILLE\"\"\")\n",
    "        print(\"La liste de tous les tuples de la table VILLE est : \")\n",
    "        print('  ', cursor.fetchall())\n",
    "    except Exception as err:\n",
    "        print(\"*** Err: \", err)  # affichage de l'erreur\n",
    "        exit()                   # sortie du programme\n",
    "afficheVille(cursor)"
   ]
  },
  {
   "cell_type": "markdown",
   "metadata": {
    "slideshow": {
     "slide_type": "subslide"
    }
   },
   "source": [
    "### Afficher un par un les tuples de la table VILLE sur un format choisi :"
   ]
  },
  {
   "cell_type": "code",
   "execution_count": 18,
   "metadata": {
    "slideshow": {
     "slide_type": "fragment"
    }
   },
   "outputs": [
    {
     "name": "stdout",
     "output_type": "stream",
     "text": [
      "Liste des villes :\n",
      "  1 - nom : Saint-Denis, Nb habitants : 147931\n",
      "  2 - nom : Saint-Pierre, Nb habitants : 84212\n",
      "  3 - nom : Saint-Benoit, Nb habitants : 37759\n",
      "  4 - nom : Saint-André, Nb habitants : 56268\n"
     ]
    }
   ],
   "source": [
    "print(\"Liste des villes :\")\n",
    "cursor.execute(\"\"\"SELECT id, name, nombre_habitants FROM VILLE\"\"\")\n",
    "for row in cursor:\n",
    "    print('  {0} - nom : {1}, Nb habitants : {2}'.format(row[0], row[1], row[2]))"
   ]
  },
  {
   "cell_type": "markdown",
   "metadata": {
    "slideshow": {
     "slide_type": "subslide"
    }
   },
   "source": [
    "### Recherche de tuples par filtres :\n",
    "Recherche spécifique sur une valeur d'une donnée"
   ]
  },
  {
   "cell_type": "code",
   "execution_count": 19,
   "metadata": {
    "slideshow": {
     "slide_type": "fragment"
    }
   },
   "outputs": [
    {
     "name": "stdout",
     "output_type": "stream",
     "text": [
      "Recherche du tuple de la table VILLE dont l'identifiant est :  4\n",
      "  SELECT id, name, nombre_habitants FROM VILLE WHERE id=2\n",
      "  réponse =  (4, 'Saint-André', 56268)\n"
     ]
    }
   ],
   "source": [
    "id = 4\n",
    "cursor.execute(\"\"\"SELECT id, name, nombre_habitants FROM VILLE WHERE id=?\"\"\", (id,))\n",
    "response = cursor.fetchone()\n",
    "print(\"Recherche du tuple de la table VILLE dont l'identifiant est : \", id)\n",
    "print(\"  SELECT id, name, nombre_habitants FROM VILLE WHERE id=2\")\n",
    "print(\"  réponse = \" , response)"
   ]
  },
  {
   "cell_type": "markdown",
   "metadata": {
    "slideshow": {
     "slide_type": "subslide"
    }
   },
   "source": [
    "# ETAPE 6 : Modifier les valeurs d'un tuple dans la BD"
   ]
  },
  {
   "cell_type": "code",
   "execution_count": 25,
   "metadata": {
    "slideshow": {
     "slide_type": "fragment"
    }
   },
   "outputs": [
    {
     "name": "stdout",
     "output_type": "stream",
     "text": [
      "Affiche un tuple spécifique apres modification de valeur de la table VILLE :\n",
      "  UPDATE VILLE SET nombre_habitants = ? WHERE id = 2, (101000,)\n",
      "  SELECT id, name, nombre_habitants FROM VILLE WHERE id = 2 (2, 'Saint-Pierre', 31000)\n",
      "Affiche la table VILLE 'récupée' suite à un rollback: \n",
      "  1 : Saint-Denis, 147931\n",
      "  2 : Saint-Pierre, 31000\n",
      "  3 : Saint-Benoit, 37759\n",
      "  4 : Saint-André, 56268\n"
     ]
    }
   ],
   "source": [
    "cursor.execute(\"\"\"UPDATE VILLE SET nombre_habitants = ? WHERE id = 2\"\"\", (31000,))\n",
    "id = 2\n",
    "cursor.execute(\"\"\"SELECT id, name, nombre_habitants FROM VILLE WHERE id=?\"\"\", (id,))\n",
    "response = cursor.fetchone()\n",
    "print(\"Affiche un tuple spécifique apres modification de valeur de la table VILLE :\")\n",
    "print(\"  UPDATE VILLE SET nombre_habitants = ? WHERE id = 2, (101000,)\")\n",
    "print(\"  SELECT id, name, nombre_habitants FROM VILLE WHERE id = 2\", response)\n",
    "\n",
    "print(\"Affiche la table VILLE 'récupée' suite à un rollback: \")\n",
    "cursor.execute(\"\"\"SELECT id, name, nombre_habitants FROM VILLE\"\"\")\n",
    "for row in cursor:\n",
    "    print('  {0} : {1}, {2}'.format(row[0], row[1], row[2]))"
   ]
  },
  {
   "cell_type": "markdown",
   "metadata": {
    "slideshow": {
     "slide_type": "slide"
    }
   },
   "source": [
    "# ETAPE 7 : Gérer la Validation et retour en arrière sur les transactions faites dans la BD\n",
    "### Validation des transactions\n",
    "Vérifier dans votre répertoire de stockage de votre base de données création d'un fichier temporaire nommé ** *nomdeBD.bd-journal** *\n",
    "Ce fichier \"journalise\" tout ce qui est fait sur la Base de données"
   ]
  },
  {
   "cell_type": "code",
   "execution_count": 27,
   "metadata": {
    "slideshow": {
     "slide_type": "fragment"
    }
   },
   "outputs": [
    {
     "data": {
      "text/plain": [
       "['maBD.bd', 'bdcours.bd']"
      ]
     },
     "execution_count": 27,
     "metadata": {},
     "output_type": "execute_result"
    }
   ],
   "source": [
    "os.listdir(\"./data/\")"
   ]
  },
  {
   "cell_type": "code",
   "execution_count": 24,
   "metadata": {
    "slideshow": {
     "slide_type": "fragment"
    }
   },
   "outputs": [],
   "source": [
    "# validation de tout ce qui a été fait jusqu'à présent sur ma BD\n",
    "maBD.commit()"
   ]
  },
  {
   "cell_type": "markdown",
   "metadata": {
    "slideshow": {
     "slide_type": "fragment"
    }
   },
   "source": [
    "Vérifier maintenant votre répertoire courant, le fichier ** *nomdeBD.bd-journal* ** a été supprimé"
   ]
  },
  {
   "cell_type": "code",
   "execution_count": 28,
   "metadata": {
    "slideshow": {
     "slide_type": "fragment"
    }
   },
   "outputs": [
    {
     "data": {
      "text/plain": [
       "['maBD.bd', 'bdcours.bd']"
      ]
     },
     "execution_count": 28,
     "metadata": {},
     "output_type": "execute_result"
    }
   ],
   "source": [
    "os.listdir(\"./data/\")"
   ]
  },
  {
   "cell_type": "code",
   "execution_count": null,
   "metadata": {
    "slideshow": {
     "slide_type": "fragment"
    }
   },
   "outputs": [],
   "source": [
    "# je rajoute d'autres villes dans ma base de données"
   ]
  },
  {
   "cell_type": "code",
   "execution_count": 30,
   "metadata": {
    "slideshow": {
     "slide_type": "fragment"
    }
   },
   "outputs": [
    {
     "name": "stdout",
     "output_type": "stream",
     "text": [
      "La liste de tous les tuples de la table VILLE est : \n",
      "   [('Saint-Denis', 147931), ('Saint-Pierre', 31000), ('Saint-Benoit', 37759), ('Saint-André', 56268), ('Besançon', 251700), ('Lausanne', 139720), ('Paris', 2187526), ('Besançon', 251700), ('Lausanne', 139720), ('Paris', 2187526)]\n"
     ]
    }
   ],
   "source": [
    "villes = []\n",
    "villes.append((\"Besançon\", 251700 ))\n",
    "villes.append((\"Lausanne\", 139720))\n",
    "villes.append((\"Paris\", 2187526))\n",
    "cursor.executemany(\"\"\"INSERT INTO VILLE(name, nombre_habitants) VALUES(?, ?)\"\"\", villes)\n",
    "afficheVille(cursor)"
   ]
  },
  {
   "cell_type": "markdown",
   "metadata": {
    "slideshow": {
     "slide_type": "subslide"
    }
   },
   "source": [
    "### Retour en arrière\n",
    "Je m'aperçois que j'ai insérer des villes qui ne sont pas de La réunion et je veux revenir en arriere sur cette opération.\n",
    "Je ne veux pas que l'opération soit prise en compte pour les autres utilisateurs de base de données"
   ]
  },
  {
   "cell_type": "code",
   "execution_count": 31,
   "metadata": {
    "slideshow": {
     "slide_type": "fragment"
    }
   },
   "outputs": [],
   "source": [
    "#retour au dernier commit\n",
    "maBD.rollback()"
   ]
  },
  {
   "cell_type": "markdown",
   "metadata": {
    "slideshow": {
     "slide_type": "fragment"
    }
   },
   "source": [
    "### Vérification du retour arriere"
   ]
  },
  {
   "cell_type": "code",
   "execution_count": 32,
   "metadata": {
    "slideshow": {
     "slide_type": "fragment"
    }
   },
   "outputs": [
    {
     "name": "stdout",
     "output_type": "stream",
     "text": [
      "La liste de tous les tuples de la table VILLE est : \n",
      "   [('Saint-Denis', 147931), ('Saint-Pierre', 31000), ('Saint-Benoit', 37759), ('Saint-André', 56268)]\n"
     ]
    }
   ],
   "source": [
    "afficheVille(cursor)"
   ]
  },
  {
   "cell_type": "markdown",
   "metadata": {
    "slideshow": {
     "slide_type": "subslide"
    }
   },
   "source": [
    "### Gestion d'erreurs \n",
    "Ici on utilise une table qui n'existe pas dans notre base de données"
   ]
  },
  {
   "cell_type": "code",
   "execution_count": 33,
   "metadata": {
    "slideshow": {
     "slide_type": "fragment"
    }
   },
   "outputs": [
    {
     "name": "stdout",
     "output_type": "stream",
     "text": [
      "*** ERROR : Impossible de faire l'opération de mise à jour de données\n",
      "Vous avez souhaité mettre à jour la base de données\n"
     ]
    }
   ],
   "source": [
    "#la mise à jour de la table supprimée provoque maintenant une erreur \n",
    "try:\n",
    "    #actions susceptibles de lancer une exception\n",
    "    cursor.execute(\"\"\"UPDATE COMMUNE SET nombre_habitants = ? WHERE id = 2\"\"\", (200000,))\n",
    "except sqlite3.OperationalError:\n",
    "    #actions de gestion de l'exception\n",
    "    print(\"*** ERROR : Impossible de faire l'opération de mise à jour de données\")\n",
    "finally:\n",
    "    #actions toujours exécutées qu'il y ait exception ou non\n",
    "    print(\"Vous avez souhaité mettre à jour la base de données\")"
   ]
  },
  {
   "cell_type": "markdown",
   "metadata": {
    "slideshow": {
     "slide_type": "subslide"
    }
   },
   "source": [
    "### Après  correction...."
   ]
  },
  {
   "cell_type": "code",
   "execution_count": 34,
   "metadata": {
    "slideshow": {
     "slide_type": "fragment"
    }
   },
   "outputs": [
    {
     "name": "stdout",
     "output_type": "stream",
     "text": [
      "Vous avez souhaité mettre à jour la base de données\n"
     ]
    }
   ],
   "source": [
    "#la mise à jour de la table supprimée provoque maintenant une erreur \n",
    "try:\n",
    "    #actions susceptibles de lancer une exception\n",
    "    cursor.execute(\"\"\"UPDATE VILLE SET nombre_habitants = ? WHERE id = 2\"\"\", (200000,))\n",
    "except sqlite3.OperationalError:\n",
    "    #actions de gestion de l'exception\n",
    "    print(\"Impossible de faire l'opération de mise à jour de données\")\n",
    "finally:\n",
    "    #actions toujours exécutées qu'il y ait exception ou non\n",
    "    print(\"Vous avez souhaité mettre à jour la base de données\")"
   ]
  },
  {
   "cell_type": "code",
   "execution_count": null,
   "metadata": {
    "slideshow": {
     "slide_type": "fragment"
    }
   },
   "outputs": [],
   "source": [
    "afficheVille(cursor)"
   ]
  },
  {
   "cell_type": "markdown",
   "metadata": {
    "slideshow": {
     "slide_type": "fragment"
    }
   },
   "source": [
    "La table ** *\"COMMUNE\"* ** n'exsite pas dans notre base de données et l'erreur est alors gérée dans le bloc exception"
   ]
  },
  {
   "cell_type": "markdown",
   "metadata": {
    "slideshow": {
     "slide_type": "slide"
    }
   },
   "source": [
    "# ETAPE 8 : Fermer d'une base de données"
   ]
  },
  {
   "cell_type": "markdown",
   "metadata": {
    "slideshow": {
     "slide_type": "fragment"
    }
   },
   "source": [
    "La base de données peut etre aceede par plusieurs programmes il est important de la fermer lorsque l'on a plus d'action à réaliser dessus avec la fonction ** *close()* **"
   ]
  },
  {
   "cell_type": "code",
   "execution_count": null,
   "metadata": {
    "slideshow": {
     "slide_type": "fragment"
    }
   },
   "outputs": [],
   "source": [
    "maBD.close()"
   ]
  },
  {
   "cell_type": "markdown",
   "metadata": {
    "slideshow": {
     "slide_type": "fragment"
    }
   },
   "source": [
    "### Maintenant on ne peu plus faire d'opération sur cette base de donnée...\n",
    "cette instruction affichera un message erreur de l'environnement python"
   ]
  },
  {
   "cell_type": "code",
   "execution_count": null,
   "metadata": {
    "slideshow": {
     "slide_type": "fragment"
    }
   },
   "outputs": [],
   "source": [
    "afficheVille(cursor)"
   ]
  },
  {
   "cell_type": "markdown",
   "metadata": {
    "slideshow": {
     "slide_type": "skip"
    }
   },
   "source": []
  }
 ],
 "metadata": {
  "celltoolbar": "Diaporama",
  "kernelspec": {
   "display_name": "Python 3",
   "language": "python",
   "name": "python3"
  },
  "language_info": {
   "codemirror_mode": {
    "name": "ipython",
    "version": 3
   },
   "file_extension": ".py",
   "mimetype": "text/x-python",
   "name": "python",
   "nbconvert_exporter": "python",
   "pygments_lexer": "ipython3",
   "version": "3.6.8"
  }
 },
 "nbformat": 4,
 "nbformat_minor": 2
}
