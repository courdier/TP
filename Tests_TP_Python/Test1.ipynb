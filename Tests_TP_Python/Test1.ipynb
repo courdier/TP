{
 "cells": [
  {
   "cell_type": "markdown",
   "metadata": {},
   "source": [
    "# TD Python - QCM 1"
   ]
  },
  {
   "cell_type": "markdown",
   "metadata": {},
   "source": [
    "### Question 1. \n",
    "Laquelle des expressions booléennes suivantes est vraie si et seulement si ```n``` est un entier pair non nul ?\n",
    "```python\n",
    "a. n / 2 == 0\n",
    "b. n % 2 == 1\n",
    "c. n % 2 == 0\n",
    "d. n // 2 == 0\n",
    "```"
   ]
  },
  {
   "cell_type": "code",
   "execution_count": null,
   "metadata": {},
   "outputs": [],
   "source": []
  },
  {
   "cell_type": "markdown",
   "metadata": {},
   "source": [
    "## Question 2 \n",
    "Pour convertir la chaÎne de caractères ```\"-12.8\"``` en sa valeur \n",
    "numérique on utilise :\n",
    "```python\n",
    "a. int(\"-12.8\")\n",
    "b. real(\"-12.8\")\n",
    "c. num(\"-12.8\")\n",
    "d. float(\"-12.8\")\n",
    "```"
   ]
  },
  {
   "cell_type": "code",
   "execution_count": null,
   "metadata": {},
   "outputs": [],
   "source": []
  },
  {
   "cell_type": "markdown",
   "metadata": {},
   "source": [
    "## Question 3\n",
    "Quel est l'opérateur d'affectation en Python ?\n",
    "```python\n",
    "a. ==\n",
    "b. =\n",
    "c. :=\n",
    "d. <-\n",
    "```"
   ]
  },
  {
   "cell_type": "code",
   "execution_count": 1,
   "metadata": {},
   "outputs": [
    {
     "ename": "SyntaxError",
     "evalue": "invalid syntax (<ipython-input-1-9ae22869553b>, line 1)",
     "output_type": "error",
     "traceback": [
      "\u001b[0;36m  File \u001b[0;32m\"<ipython-input-1-9ae22869553b>\"\u001b[0;36m, line \u001b[0;32m1\u001b[0m\n\u001b[0;31m    =\u001b[0m\n\u001b[0m    ^\u001b[0m\n\u001b[0;31mSyntaxError\u001b[0m\u001b[0;31m:\u001b[0m invalid syntax\n"
     ]
    }
   ],
   "source": []
  },
  {
   "cell_type": "markdown",
   "metadata": {},
   "source": [
    "## Question 4 \n",
    "Etant donnée la variable ```unmot``` initialisée avec la chaîne de caractères ```\"papangue\"```, quelle est la valeur de l'ex-pression ```unmot[1:5]``` ?\n",
    "```python\n",
    "a. 'papa'\n",
    "b. 'papan'\n",
    "c. 'apan'\n",
    "d. 'apang'\n",
    "```"
   ]
  },
  {
   "cell_type": "code",
   "execution_count": null,
   "metadata": {},
   "outputs": [],
   "source": [
    "send(input(\"Reponse question 4 : \"), 4 )"
   ]
  },
  {
   "cell_type": "markdown",
   "metadata": {},
   "source": [
    "## Question 5 \n",
    "Etant donnée la variable langue initilisée avec la liste : \n",
    "```[\"anglais\", \"allemand\", \"espagnol\", \"italien\",\"finois\", \"russe\"]```, \n",
    "la valeur de l'expression ```langue[2:]``` est :\n",
    "```python\n",
    "a. ['espagnol', 'italien', 'finois', 'russe']\n",
    "b. ['espagnol']\n",
    "c. ['allemand', 'espagnol', 'italien', 'finois', 'russe']\n",
    "d. aucune, expression incorrecte en python\n",
    "```"
   ]
  },
  {
   "cell_type": "code",
   "execution_count": null,
   "metadata": {},
   "outputs": [],
   "source": []
  },
  {
   "cell_type": "markdown",
   "metadata": {},
   "source": [
    "## question 6 \n",
    "Qu'affiche le programme suivant :\n",
    "```python\n",
    "x = 12\n",
    "y = 8\n",
    "z = x\n",
    "x = y\n",
    "y = z\n",
    "print(x,y)\n",
    "\n",
    "a. 8 8\n",
    "b. 8 12\n",
    "c. 12 8\n",
    "d. 12 12\n",
    "```"
   ]
  },
  {
   "cell_type": "code",
   "execution_count": null,
   "metadata": {},
   "outputs": [],
   "source": []
  },
  {
   "cell_type": "markdown",
   "metadata": {},
   "source": [
    "## Question 7 \n",
    "Qu'affiche le programme suivant :\n",
    "```python\n",
    "x = 1+5//4\n",
    "print(x)\n",
    "\n",
    "a. 1\n",
    "b. 2\n",
    "c. 2.25\n",
    "d. 2.0\n",
    "```"
   ]
  },
  {
   "cell_type": "code",
   "execution_count": null,
   "metadata": {},
   "outputs": [],
   "source": []
  },
  {
   "cell_type": "markdown",
   "metadata": {},
   "source": [
    "## question 8\n",
    "Qu'affiche le programme suivant :\n",
    "```python\n",
    "x = \"10\"\n",
    "y = \"5\"\n",
    "z = x + y\n",
    "print(z)\n",
    "\n",
    "a. 15\n",
    "b. 510\n",
    "c. 105\n",
    "d. 10+5\n",
    "```"
   ]
  },
  {
   "cell_type": "code",
   "execution_count": null,
   "metadata": {},
   "outputs": [],
   "source": [
    "send(input(\"Reponse question 8 : \"), 8 )"
   ]
  },
  {
   "cell_type": "markdown",
   "metadata": {},
   "source": [
    "## question 9 \n",
    "Qu'affiche le programme suivant :\n",
    "```python\n",
    "x = 9\n",
    "y = 15\n",
    "if x > 5:\n",
    "    y = y - 5\n",
    "if y > 10:\n",
    "    y = y + 1\n",
    "print(y)\n",
    "\n",
    "a. 15\n",
    "b. 11\n",
    "c. 10\n",
    "d. 5\n",
    "```"
   ]
  },
  {
   "cell_type": "code",
   "execution_count": null,
   "metadata": {},
   "outputs": [],
   "source": [
    "send(input(\"Reponse question 9 : \"), 9 )"
   ]
  },
  {
   "cell_type": "markdown",
   "metadata": {},
   "source": [
    "## question 10\n",
    "Qu'affiche le programme suivant :\n",
    "```python\n",
    "x = 2\n",
    "y = 5\n",
    "if x > 8:\n",
    "    y = 10\n",
    "elif x > 6:\n",
    "    y = 3\n",
    "print(y)\n",
    "\n",
    "a. 5\n",
    "b. 10\n",
    "c. 3\n",
    "d. rien, il provoque une erreur\n",
    "```"
   ]
  },
  {
   "cell_type": "code",
   "execution_count": null,
   "metadata": {},
   "outputs": [],
   "source": []
  }
 ],
 "metadata": {
  "kernelspec": {
   "display_name": "Python 3",
   "language": "python",
   "name": "python3"
  },
  "language_info": {
   "codemirror_mode": {
    "name": "ipython",
    "version": 3
   },
   "file_extension": ".py",
   "mimetype": "text/x-python",
   "name": "python",
   "nbconvert_exporter": "python",
   "pygments_lexer": "ipython3",
   "version": "3.6.8"
  }
 },
 "nbformat": 4,
 "nbformat_minor": 2
}
