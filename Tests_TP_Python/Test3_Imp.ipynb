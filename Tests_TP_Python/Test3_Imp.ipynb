{
 "cells": [
  {
   "cell_type": "markdown",
   "metadata": {},
   "source": [
    "# TD Python - QCM TEST3"
   ]
  },
  {
   "cell_type": "markdown",
   "metadata": {},
   "source": [
    "## question 1\n",
    "Qu'affiche le programme suivant :\n",
    "```python\n",
    "noms1 = [\"Alice\", \"Bob\", \"Charles\", \"Damien\"]\n",
    "noms2 = noms1\n",
    "noms2[0] = \"Arthur\"\n",
    "nb=0\n",
    "for i in range(len(noms1)):\n",
    "    if noms1[i] == noms2 [i]:\n",
    "        nb = nb +1\n",
    "print(nb)\n",
    "\n",
    "a. 0\n",
    "b. 1\n",
    "c. 3\n",
    "d. 4\n",
    "```"
   ]
  },
  {
   "cell_type": "markdown",
   "metadata": {},
   "source": [
    "Reponse question 1 :"
   ]
  },
  {
   "cell_type": "markdown",
   "metadata": {},
   "source": [
    "## Question 2 \n",
    "Qu'affiche le programme suivant :\n",
    "```python\n",
    "def mafonc(nb):\n",
    "    return nb - a\n",
    "a=5\n",
    "print(mafonc(10))\n",
    "\n",
    "a. 5\n",
    "b. 10\n",
    "c. 15\n",
    "d. rien, il provoque une erreur\n",
    "```"
   ]
  },
  {
   "cell_type": "markdown",
   "metadata": {},
   "source": [
    "Reponse question 2 :"
   ]
  },
  {
   "cell_type": "markdown",
   "metadata": {},
   "source": [
    "## Question 3 \n",
    "Qu'affiche le programme suivant :\n",
    "```python\n",
    "def mafonc(nb):\n",
    "    a=1\n",
    "    return nb-a\n",
    "a=5\n",
    "print(mafonc(10))\n",
    "\n",
    "a. 5\n",
    "b. 9\n",
    "c. 10\n",
    "d. rien, il provoque une erreur\n",
    "```"
   ]
  },
  {
   "cell_type": "markdown",
   "metadata": {},
   "source": [
    "Reponse question 3 :"
   ]
  },
  {
   "cell_type": "markdown",
   "metadata": {},
   "source": [
    "## Question 4 \n",
    "Qu'affiche le programme suivant :\n",
    "```python\n",
    "def mafonc(x):\n",
    "    x = x + 10\n",
    "    print(x, end=\" \")\n",
    "a=5\n",
    "mafonc(a)\n",
    "print(a)\n",
    "\n",
    "a. 15 15\n",
    "b. 15 5\n",
    "c. 5 15\n",
    "d. None 5\n",
    "```"
   ]
  },
  {
   "cell_type": "markdown",
   "metadata": {},
   "source": [
    "Reponse question 4 :"
   ]
  },
  {
   "cell_type": "markdown",
   "metadata": {},
   "source": [
    "## Question 5\n",
    "Qu'affiche le programme suivant :\n",
    "```python\n",
    "def mafonc(x):\n",
    "    a = 20\n",
    "    print(a, end=\" \")\n",
    "mafonc(10)\n",
    "print(a)\n",
    "\n",
    "a. 20 20\n",
    "b. 20 10\n",
    "c. 20 None\n",
    "d. rien, il provoque une erreur\n",
    "```"
   ]
  },
  {
   "cell_type": "markdown",
   "metadata": {},
   "source": [
    "Reponse question 5 :"
   ]
  },
  {
   "cell_type": "markdown",
   "metadata": {},
   "source": [
    "## Question 6 \n",
    "Qu'affiche le programme suivant :\n",
    "```python\n",
    "def mafonc(x):\n",
    "    res = x*2\n",
    "    print(res, end= \" \")\n",
    "a = mafonc(10)\n",
    "print(a)\n",
    "\n",
    "a. 20 None\n",
    "b. 20 20\n",
    "c. 20\n",
    "d. None\n",
    "```"
   ]
  },
  {
   "cell_type": "markdown",
   "metadata": {},
   "source": [
    "Reponse question 6 :"
   ]
  },
  {
   "cell_type": "markdown",
   "metadata": {},
   "source": [
    "## Question 7\n",
    "Qu'affiche le programme suivant :\n",
    "```python\n",
    "def double(x):\n",
    "    x = 2 * x\n",
    "    return x\n",
    "def augmente(x):\n",
    "    x = x + 1\n",
    "    x = double(x)\n",
    "    return x\n",
    "print(augmente(10))\n",
    "\n",
    "```"
   ]
  },
  {
   "cell_type": "markdown",
   "metadata": {},
   "source": [
    "Reponse question 7 :"
   ]
  },
  {
   "cell_type": "markdown",
   "metadata": {},
   "source": [
    "## Question 8\n",
    "Corriger les deux erreurs dans ce ces déclarations de classes python :\n",
    "```python\n",
    "\n",
    "class Satellite:\n",
    "     def __init__(self,a_name,a_poids):\n",
    "        self.nom    = a_name;\n",
    "        self.poids  = poids; \n",
    "    def __str__(self):\n",
    "        return \"[{0},{1}]\".format(self.a_name,self.poids)\n",
    "    def identite(self):\n",
    "        return \"[{0}]\".format(self.a_name)\n",
    "  \n",
    "class CubeSat:\n",
    "    def __init__(self,a_name=\"x\",poids=\"x\",format=\"1U\"):\n",
    "        Satellite.__init__(self,a_name,poids)\n",
    "        self.format=format\n",
    "\n",
    "    def __str__(self):\n",
    "        return \"[{0},{1},{2}]\".format(self.a_name,self.poids,self.format)\n",
    "\n",
    "  \n",
    "# -*- Programme Principal -*- =============================================\n",
    "\n",
    "# création d'une instance a_sat de Satellite\n",
    "# --code 1--\n",
    "\n",
    "# affichage de l'identitité du satellite a_sat\n",
    "# --code 2--\n",
    "\n",
    "# création d'une liste de 2 Satellites et de 1 Cubesat \n",
    "# --code 3--\n",
    "\n",
    "# affichage des identités de chaque satellite de la liste\n",
    "# --code 4--\n",
    "```"
   ]
  },
  {
   "cell_type": "code",
   "execution_count": null,
   "metadata": {},
   "outputs": [],
   "source": [
    "| # Explication :  \n",
    "|\n",
    "|\n",
    "|\n",
    "| "
   ]
  },
  {
   "cell_type": "markdown",
   "metadata": {},
   "source": [
    "## Question 9\n",
    "Codage en python :"
   ]
  },
  {
   "cell_type": "code",
   "execution_count": null,
   "metadata": {},
   "outputs": [],
   "source": [
    "| # écrire --code 1-- \n",
    "|\n",
    "|"
   ]
  },
  {
   "cell_type": "code",
   "execution_count": null,
   "metadata": {},
   "outputs": [],
   "source": [
    "| # écrire --code 2-- \n",
    "|\n",
    "|\n",
    "|"
   ]
  },
  {
   "cell_type": "markdown",
   "metadata": {},
   "source": [
    "## Question 9\n",
    "Codage en python :"
   ]
  },
  {
   "cell_type": "code",
   "execution_count": null,
   "metadata": {},
   "outputs": [],
   "source": [
    "| # écrire --code 3-- \n",
    "|\n",
    "|\n",
    "|\n",
    "|"
   ]
  },
  {
   "cell_type": "code",
   "execution_count": null,
   "metadata": {},
   "outputs": [],
   "source": [
    "| # écrire --code 4-- \n",
    "|\n",
    "|\n",
    "|\n",
    "|\n",
    "| \n",
    "|\n",
    "|\n",
    "|\n",
    "|"
   ]
  }
 ],
 "metadata": {
  "kernelspec": {
   "display_name": "Python 3",
   "language": "python",
   "name": "python3"
  },
  "language_info": {
   "codemirror_mode": {
    "name": "ipython",
    "version": 3
   },
   "file_extension": ".py",
   "mimetype": "text/x-python",
   "name": "python",
   "nbconvert_exporter": "python",
   "pygments_lexer": "ipython3",
   "version": "3.6.8"
  }
 },
 "nbformat": 4,
 "nbformat_minor": 2
}
